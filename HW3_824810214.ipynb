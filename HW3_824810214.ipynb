{
  "cells": [
    {
      "cell_type": "markdown",
      "source": [
        "## Question 1-Setup"
      ],
      "metadata": {
        "id": "8eXq9Ti84p3c"
      },
      "id": "8eXq9Ti84p3c"
    },
    {
      "cell_type": "code",
      "source": [
        "q = [9, 46, 4, 18, 21, 40, 19, 25, 14, 37, 33]"
      ],
      "metadata": {
        "id": "yKwX6DNg4pdq"
      },
      "id": "yKwX6DNg4pdq",
      "execution_count": null,
      "outputs": []
    },
    {
      "cell_type": "markdown",
      "source": [
        "## Question 1-(1)\n"
      ],
      "metadata": {
        "id": "KN6VtudDYrWW"
      },
      "id": "KN6VtudDYrWW"
    },
    {
      "cell_type": "code",
      "source": [
        "import time\n",
        "\n",
        "def matrix_chain(l, i, j):\n",
        "\n",
        "  if i == j:\n",
        "    return 0\n",
        "\n",
        "  min_val = float('inf')\n",
        "  for k in range(i, j):\n",
        "    count = (matrix_chain(l, i, k) + matrix_chain(l, k + 1, j) + l[i - 1] * l[k] * l[j])\n",
        "\n",
        "    if count < min_val:\n",
        "      min_val = count\n",
        "\n",
        "  return min_val\n",
        "\n",
        "start_time = time.time()\n",
        "matrix_chain(q, 1, len(q) - 1)\n",
        "end_time = time.time()\n",
        "\n",
        "print(\"Matrix-Chain Running Time:\", end_time - start_time, \"seconds\")\n"
      ],
      "metadata": {
        "colab": {
          "base_uri": "https://localhost:8080/"
        },
        "id": "6GfdkxXNZE7E",
        "outputId": "b55e41da-fcb4-43f6-d032-26b84e335bd2"
      },
      "id": "6GfdkxXNZE7E",
      "execution_count": null,
      "outputs": [
        {
          "output_type": "stream",
          "name": "stdout",
          "text": [
            "Matrix-Chain Running Time: 0.016351938247680664 seconds\n"
          ]
        }
      ]
    },
    {
      "cell_type": "markdown",
      "source": [
        "## Question 1-(2)"
      ],
      "metadata": {
        "id": "ecDb-TkjesG5"
      },
      "id": "ecDb-TkjesG5"
    },
    {
      "cell_type": "code",
      "source": [
        "import time\n",
        "\n",
        "def bottom_up(p):\n",
        "  n = len(p)\n",
        "  m = [[0 for x in range(n)] for x in range(n)]\n",
        "\n",
        "  for L in range(2, n):\n",
        "\n",
        "    for i in range(1, n - L + 1):\n",
        "      j = i + L - 1\n",
        "      m[i][j] = float('inf')\n",
        "\n",
        "      for k in range(i, j):\n",
        "        count = m[i][k] + m[k + 1][j] + p[i - 1] * p[k] * p[j]\n",
        "\n",
        "        if count < m[i][j]:\n",
        "          m[i][j] = count\n",
        "\n",
        "  return m[1][n - 1]\n",
        "\n",
        "start_time = time.time()\n",
        "bottom_up(q)\n",
        "end_time = time.time()\n",
        "\n",
        "print(\"Bottom Up Running Time:\", end_time - start_time, \"seconds\")\n"
      ],
      "metadata": {
        "colab": {
          "base_uri": "https://localhost:8080/"
        },
        "id": "DLZOdFr2eq1l",
        "outputId": "560faab7-1124-4817-ef67-0698256223b5"
      },
      "id": "DLZOdFr2eq1l",
      "execution_count": null,
      "outputs": [
        {
          "output_type": "stream",
          "name": "stdout",
          "text": [
            "Bottom Up Running Time: 0.0002532005310058594 seconds\n"
          ]
        }
      ]
    },
    {
      "cell_type": "markdown",
      "source": [
        "## Question 1-(3)"
      ],
      "metadata": {
        "id": "GESViqs5eshx"
      },
      "id": "GESViqs5eshx"
    },
    {
      "cell_type": "code",
      "source": [
        "def print_p(i, j, n, point):\n",
        "    if i == j:\n",
        "        print(f\"A{n}\", end=\"\")\n",
        "        n += 1\n",
        "        return n\n",
        "\n",
        "    print(\"(\", end=\"\")\n",
        "    n = print_p(i, point[i][j], n, point)\n",
        "    n = print_p(point[i][j] + 1, j, n, point)\n",
        "    print(\")\", end=\"\")\n",
        "    return n\n",
        "\n",
        "def matrix_chain_order(p):\n",
        "    n = len(p)\n",
        "    m = [[0 for x in range(n)] for x in range(n)]\n",
        "    point = [[0 for x in range(n)] for x in range(n)]\n",
        "    for L in range(2, n):\n",
        "\n",
        "        for i in range(1, n - L + 1):\n",
        "            j = i + L - 1\n",
        "            m[i][j] = float('inf')\n",
        "\n",
        "            for k in range(i, j):\n",
        "                count = m[i][k] + m[k + 1][j] + p[i - 1] * p[k] * p[j]\n",
        "\n",
        "                if count < m[i][j]:\n",
        "                    m[i][j] = count\n",
        "                    point[i][j] = k\n",
        "\n",
        "    print(\"Full Parenthesization Optimal Solution: \", end=\"\")\n",
        "    print_p(1, n - 1, 0, point)\n",
        "\n",
        "matrix_chain_order(q)"
      ],
      "metadata": {
        "colab": {
          "base_uri": "https://localhost:8080/"
        },
        "id": "RarDUHukerO_",
        "outputId": "21e1c5cc-ac70-45e9-c411-47de7d332fc2"
      },
      "id": "RarDUHukerO_",
      "execution_count": null,
      "outputs": [
        {
          "output_type": "stream",
          "name": "stdout",
          "text": [
            "Full Parenthesization Optimal Solution: ((A0A1)(((((((A2A3)A4)A5)A6)A7)A8)A9))"
          ]
        }
      ]
    },
    {
      "cell_type": "markdown",
      "source": [
        "## Question 2-Setup"
      ],
      "metadata": {
        "id": "7jrQ4jJybpij"
      },
      "id": "7jrQ4jJybpij"
    },
    {
      "cell_type": "code",
      "source": [
        "# Input matrix\n",
        "cost = [[4, 187, 14, 156, 49, 2, 105, 97, 184, 92],\n",
        "[100, 153, 159, 86, 95, 159, 53, 10, 175, 76],\n",
        "[ 99, 49, 140, 146, 32, 82, 94, 140, 4, 198],\n",
        "[ 59, 108, 149, 20, 94, 33, 79, 19, 63, 76],\n",
        "[ 41, 136, 67, 102, 157, 105, 33, 155, 122, 69],\n",
        "[ 44, 5, 16, 40, 16, 181, 142, 89, 61, 35],\n",
        "[181, 154, 101, 147, 55, 143, 76, 5, 184, 66],\n",
        "[ 23, 119, 83, 176, 144, 78, 191, 86, 151, 43],\n",
        "[198, 17, 149, 35, 30, 150, 52, 183, 154, 75],\n",
        "[160, 26, 168, 5, 137, 115, 75, 158, 25, 184]]\n"
      ],
      "metadata": {
        "id": "arx540MAboPa"
      },
      "id": "arx540MAboPa",
      "execution_count": null,
      "outputs": []
    },
    {
      "cell_type": "markdown",
      "source": [
        "## Question 2-(1)"
      ],
      "metadata": {
        "id": "YkyN7bpJe5XS"
      },
      "id": "YkyN7bpJe5XS"
    },
    {
      "cell_type": "code",
      "source": [
        "import time\n",
        "\n",
        "def min_cost_recursive(cost, m, n):\n",
        "\n",
        "  if m == 0 and n == 0:\n",
        "    return cost[m][n]\n",
        "\n",
        "  elif m == 0:\n",
        "    return min_cost_recursive(cost, m, n-1) + cost[m][n]\n",
        "\n",
        "  elif n == 0:\n",
        "    return min_cost_recursive(cost, m-1, n) + cost[m][n]\n",
        "\n",
        "  else:\n",
        "    return min(min_cost_recursive(cost, m-1, n-1),\n",
        "    min_cost_recursive(cost, m-1, n),\n",
        "    min_cost_recursive(cost, m, n-1)) + cost[m][n]\n",
        "\n",
        "start_time = time.time()\n",
        "min_cost = min_cost_recursive(cost, 9, 9)\n",
        "end_time = time.time()\n",
        "\n",
        "print(\"Naive Recursive Minimum Cost:\", min_cost)\n",
        "print(\"Naive Recursive Running Time:\", end_time - start_time, \"seconds\")\n"
      ],
      "metadata": {
        "colab": {
          "base_uri": "https://localhost:8080/"
        },
        "id": "ULT_maVOfAZS",
        "outputId": "29694d75-3df8-4e41-d0f8-03d5da9f02af"
      },
      "id": "ULT_maVOfAZS",
      "execution_count": null,
      "outputs": [
        {
          "output_type": "stream",
          "name": "stdout",
          "text": [
            "Naive Recursive Minimum Cost: 893\n",
            "Naive Recursive Running Time: 1.2707009315490723 seconds\n"
          ]
        }
      ]
    },
    {
      "cell_type": "markdown",
      "source": [
        "## Question 2-(2)"
      ],
      "metadata": {
        "id": "V8gpTU_ofCtP"
      },
      "id": "V8gpTU_ofCtP"
    },
    {
      "cell_type": "code",
      "source": [
        "import time\n",
        "\n",
        "def bottom_up_dp(cost, m, n):\n",
        "    table = [[0] * (n+1) for _ in range(m+1)]\n",
        "    table[0][0] = cost[0][0]\n",
        "\n",
        "    for j in range(1, n+1):\n",
        "        table[0][j] = cost[0][j] + table[0][j-1]\n",
        "\n",
        "    for i in range(1, m+1):\n",
        "        table[i][0] = cost[i][0] + table[i-1][0]\n",
        "\n",
        "    for i in range(1, m+1):\n",
        "        for j in range(1, n+1):\n",
        "            table[i][j] = cost[i][j] + min(\n",
        "                table[i-1][j-1],\n",
        "                table[i-1][j],\n",
        "                table[i][j-1]\n",
        "            )\n",
        "\n",
        "    return table[m][n]\n",
        "\n",
        "\n",
        "start_time = time.time()\n",
        "min_cost = bottom_up_dp(cost, 9, 9)\n",
        "end_time = time.time()\n",
        "\n",
        "print(\"Bottom-Up Dp Minimum cost:\", min_cost)\n",
        "print(\"Bottom-Up DP Running time:\", end_time - start_time, \"seconds\")\n",
        "\n",
        "\n"
      ],
      "metadata": {
        "colab": {
          "base_uri": "https://localhost:8080/"
        },
        "id": "dwz4nXTefGZM",
        "outputId": "b9dc9054-df94-4ca1-bcb0-99c461d56fcf"
      },
      "id": "dwz4nXTefGZM",
      "execution_count": null,
      "outputs": [
        {
          "output_type": "stream",
          "name": "stdout",
          "text": [
            "Bottom-Up Dp Minimum cost: 893\n",
            "Bottom-Up DP Running time: 0.0001506805419921875 seconds\n"
          ]
        }
      ]
    },
    {
      "cell_type": "markdown",
      "source": [
        "## Question 2-(3)"
      ],
      "metadata": {
        "id": "cU0M2LoZfD0L"
      },
      "id": "cU0M2LoZfD0L"
    },
    {
      "cell_type": "code",
      "source": [
        "import time\n",
        "import sys\n",
        "from typing import List\n",
        "\n",
        "def top_down_dp(cost: List[List[int]]) -> int:\n",
        "\n",
        "    memo = [[-1 for _ in range(len(cost[0]))] for _ in range(len(cost))]\n",
        "\n",
        "    def top_down_prob(i: int, j: int, m: int, n: int) -> int:\n",
        "\n",
        "        if i == m and j == n:\n",
        "            return cost[i][j]\n",
        "\n",
        "        if i > m or j > n:\n",
        "            return sys.maxsize\n",
        "\n",
        "        if memo[i][j] != -1:\n",
        "            return memo[i][j]\n",
        "\n",
        "        memo[i][j] = cost[i][j] + min(top_down_prob(i+1, j, m, n), top_down_prob(i, j+1, m, n), top_down_prob(i+1, j+1, m, n))\n",
        "        return memo[i][j]\n",
        "\n",
        "    return top_down_prob(0, 0, len(cost)-1, len(cost[0])-1)\n",
        "\n",
        "start_time = time.time()\n",
        "min_cost = top_down_dp(cost)\n",
        "end_time = time.time()\n",
        "\n",
        "print(\"Top-Down DP Minimum cost:\", min_cost)\n",
        "print(\"Top-Down DP Running Time:\", end_time - start_time, \"seconds\")\n"
      ],
      "metadata": {
        "colab": {
          "base_uri": "https://localhost:8080/"
        },
        "id": "XKT2LJiofG-0",
        "outputId": "446af98a-df3a-484b-a8d6-675b7eefdb7e"
      },
      "id": "XKT2LJiofG-0",
      "execution_count": null,
      "outputs": [
        {
          "output_type": "stream",
          "name": "stdout",
          "text": [
            "Top-Down DP Minimum cost: 893\n",
            "Top-Down DP Running Time: 0.00019598007202148438 seconds\n"
          ]
        }
      ]
    },
    {
      "cell_type": "markdown",
      "source": [
        "## Question 2-(4)"
      ],
      "metadata": {
        "id": "_RQ5PNmPfExw"
      },
      "id": "_RQ5PNmPfExw"
    },
    {
      "cell_type": "code",
      "source": [
        "def minCostPath(cost):\n",
        "    m, n = len(cost), len(cost[0])\n",
        "    dp = [[0] * n for _ in range(m)]\n",
        "    dp[0][0] = cost[0][0]\n",
        "\n",
        "    for i in range(1, m):\n",
        "        dp[i][0] = dp[i-1][0] + cost[i][0]\n",
        "\n",
        "    for j in range(1, n):\n",
        "        dp[0][j] = dp[0][j-1] + cost[0][j]\n",
        "\n",
        "    for i in range(1, m):\n",
        "        for j in range(1, n):\n",
        "            dp[i][j] = cost[i][j] + min(\n",
        "                dp[i-1][j-1],\n",
        "                dp[i-1][j],\n",
        "                dp[i][j-1]\n",
        "            )\n",
        "\n",
        "    path = [(0, 0)]\n",
        "    i, j = m-1, n-1\n",
        "    while i > 0 or j > 0:\n",
        "        if i == 0:\n",
        "            path.append((0, j-1))\n",
        "            j -= 1\n",
        "\n",
        "        elif j == 0:\n",
        "            path.append((i-1, 0))\n",
        "            i -= 1\n",
        "\n",
        "        else:\n",
        "            if dp[i-1][j-1] == min(dp[i-1][j-1], dp[i-1][j], dp[i][j-1]):\n",
        "                path.append((i-1, j-1))\n",
        "                i -= 1\n",
        "                j -= 1\n",
        "\n",
        "            elif dp[i-1][j] == min(dp[i-1][j-1], dp[i-1][j], dp[i][j-1]):\n",
        "                path.append((i-1, j))\n",
        "                i -= 1\n",
        "\n",
        "            else:\n",
        "                path.append((i, j-1))\n",
        "                j -= 1\n",
        "\n",
        "    path.append((m-1, n-1))\n",
        "    path.reverse()\n",
        "    return dp[m-1][n-1], path\n",
        "\n",
        "\n",
        "min_cost, path = minCostPath(cost)\n",
        "print(\"Minimum cost:\", min_cost)\n",
        "print(\"Minimum Cost path:\")\n",
        "for cell in path:\n",
        "    print(cell)"
      ],
      "metadata": {
        "colab": {
          "base_uri": "https://localhost:8080/"
        },
        "id": "uGlIM2f0fH3a",
        "outputId": "f56c0823-e9ac-486e-ed9d-9cc4c2a67323"
      },
      "id": "uGlIM2f0fH3a",
      "execution_count": null,
      "outputs": [
        {
          "output_type": "stream",
          "name": "stdout",
          "text": [
            "Minimum cost: 893\n",
            "Minimum Cost path:\n",
            "(9, 9)\n",
            "(0, 0)\n",
            "(0, 1)\n",
            "(0, 2)\n",
            "(1, 3)\n",
            "(2, 4)\n",
            "(3, 5)\n",
            "(4, 6)\n",
            "(5, 7)\n",
            "(6, 7)\n",
            "(7, 8)\n",
            "(8, 9)\n",
            "(0, 0)\n"
          ]
        }
      ]
    },
    {
      "cell_type": "markdown",
      "source": [
        "## Question 3-Setup"
      ],
      "metadata": {
        "id": "pjW2Lb4TRP87"
      },
      "id": "pjW2Lb4TRP87"
    },
    {
      "cell_type": "code",
      "source": [
        "from collections import deque"
      ],
      "metadata": {
        "id": "YD2_WZaGRU4x"
      },
      "id": "YD2_WZaGRU4x",
      "execution_count": null,
      "outputs": []
    },
    {
      "cell_type": "code",
      "source": [
        "# A class for undirected graph object\n",
        "class UGraph:\n",
        "    def __init__(self, edges, n):\n",
        "        # A list of lists to represent an adjacency list\n",
        "        self.adjList = [[] for _ in range(n)]\n",
        "\n",
        "        # add edges to the undirected graph\n",
        "        for (src, dest) in edges:\n",
        "            self.adjList[src].append(dest)\n",
        "            self.adjList[dest].append(src)"
      ],
      "metadata": {
        "id": "417m8HFyRVQX"
      },
      "id": "417m8HFyRVQX",
      "execution_count": null,
      "outputs": []
    },
    {
      "cell_type": "code",
      "source": [
        "# A class for directed graph object\n",
        "class DGraph:\n",
        "    def __init__(self, edges, n):\n",
        "\n",
        "        # A list of lists to represent an adjacency list\n",
        "        self.adjList = [[] for _ in range(n)]\n",
        "\n",
        "        # add edges to the directed graph\n",
        "        for (src, dest) in edges:\n",
        "            # add an edge from source to destination\n",
        "            self.adjList[src].append(dest)"
      ],
      "metadata": {
        "id": "hu96lvFiRVjy"
      },
      "id": "hu96lvFiRVjy",
      "execution_count": null,
      "outputs": []
    },
    {
      "cell_type": "markdown",
      "id": "a854484d",
      "metadata": {
        "id": "a854484d"
      },
      "source": [
        "## Input"
      ]
    },
    {
      "cell_type": "code",
      "execution_count": null,
      "id": "83f46a1b",
      "metadata": {
        "id": "83f46a1b"
      },
      "outputs": [],
      "source": [
        "edges = [\n",
        "    (0, 1), (0, 6), (0, 7), (1, 2), (1, 5), (2, 3),\n",
        "    (2, 4), (7, 8), (7, 11), (8, 9), (8, 10)]\n",
        "\n",
        "# Total number of vertices in the graph (labelled from 0 to 13)\n",
        "# Assume that vertex 12 and 13 do not have any connections with others\n",
        "n = 14\n",
        "\n",
        "# Build a graph from the given edges\n",
        "graph = UGraph(edges, n)"
      ]
    },
    {
      "cell_type": "markdown",
      "id": "30cd5185",
      "metadata": {
        "id": "30cd5185"
      },
      "source": [
        "## Question 3-(1)"
      ]
    },
    {
      "cell_type": "code",
      "execution_count": null,
      "id": "c37ad8b5",
      "metadata": {
        "id": "c37ad8b5"
      },
      "outputs": [],
      "source": [
        "def DFS_recursive(graph, v, discovered):\n",
        "  discovered[v] = True\n",
        "  print(v, end=' ')\n",
        "  for i in graph.adjList[v]:\n",
        "    if not discovered[i]:\n",
        "      DFS_recursive(graph, i, discovered)\n",
        "    # Write your code here\n",
        "    # Include a line to print the vertex that is discovered, e.g., print(v, end=' ')"
      ]
    },
    {
      "cell_type": "code",
      "execution_count": null,
      "id": "425e98c3",
      "metadata": {
        "colab": {
          "base_uri": "https://localhost:8080/"
        },
        "id": "425e98c3",
        "outputId": "b334b6bb-08d4-45d0-8b1c-cf8af6f8a63a"
      },
      "outputs": [
        {
          "output_type": "stream",
          "name": "stdout",
          "text": [
            "DFS recursive\n",
            "0 1 2 3 4 5 6 7 8 9 10 11 12 13 "
          ]
        }
      ],
      "source": [
        "# A variable to keep track of whether a vertex is discovered or not\n",
        "discovered = [False] * n\n",
        "\n",
        "# Perform DFS traversal from all undiscovered nodes\n",
        "# to cover all connected components of a graph\n",
        "print('DFS recursive')\n",
        "for i in range(n):\n",
        "    if not discovered[i]:\n",
        "        DFS_recursive(graph, i, discovered)"
      ]
    },
    {
      "cell_type": "markdown",
      "id": "02d3d5b2",
      "metadata": {
        "id": "02d3d5b2"
      },
      "source": [
        "## Question 3-(2)"
      ]
    },
    {
      "cell_type": "code",
      "execution_count": null,
      "id": "1bb1ab2a",
      "metadata": {
        "id": "1bb1ab2a"
      },
      "outputs": [],
      "source": [
        "def DFS_iterative(graph, v, discovered):\n",
        "    # Write your code here\n",
        "    # Include a line to print the vertex that is discovered, e.g., print(v, end=' ')\n",
        "    stack = deque()\n",
        "    discovered[v] = True\n",
        "    stack.append(v)\n",
        "    while stack:\n",
        "      v = stack.pop()\n",
        "      print(v, end=' ')\n",
        "      for i in graph.adjList[v]:\n",
        "        if not discovered[i]:\n",
        "          discovered[i] = True\n",
        "          stack.append(i)"
      ]
    },
    {
      "cell_type": "code",
      "execution_count": null,
      "id": "ad9ccd3a",
      "metadata": {
        "colab": {
          "base_uri": "https://localhost:8080/"
        },
        "id": "ad9ccd3a",
        "outputId": "53049ca9-40dd-485d-d346-092b07275404"
      },
      "outputs": [
        {
          "output_type": "stream",
          "name": "stdout",
          "text": [
            "DFS iterative\n",
            "0 7 11 8 10 9 6 1 5 2 4 3 12 13 "
          ]
        }
      ],
      "source": [
        "# A variable to keep track of whether a vertex is discovered or not\n",
        "discovered = [False] * n\n",
        "\n",
        "# Perform DFS traversal from all undiscovered nodes\n",
        "# to cover all connected components of a graph\n",
        "print('DFS iterative')\n",
        "for i in range(n):\n",
        "    if not discovered[i]:\n",
        "        DFS_iterative(graph, i, discovered)"
      ]
    },
    {
      "cell_type": "markdown",
      "id": "136774e5",
      "metadata": {
        "id": "136774e5"
      },
      "source": [
        "## Question 4-(1)"
      ]
    },
    {
      "cell_type": "code",
      "execution_count": null,
      "id": "ad1cf3af",
      "metadata": {
        "id": "ad1cf3af"
      },
      "outputs": [],
      "source": [
        "def BFS_iterative(graph, v, discovered):\n",
        "    # Write your code here\n",
        "    # Include a line to print the vertex that is discovered, e.g., print(v, end=' ')\n",
        "    queue = deque([v])\n",
        "    discovered[v] = True\n",
        "\n",
        "    while queue:\n",
        "      v = queue.popleft()\n",
        "\n",
        "      print(v, end=' ')\n",
        "\n",
        "      for neighbor in graph.adjList[v]:\n",
        "        if not discovered[neighbor]:\n",
        "          discovered[neighbor] = True\n",
        "          queue.append(neighbor)\n",
        "\n"
      ]
    },
    {
      "cell_type": "code",
      "execution_count": null,
      "id": "35566505",
      "metadata": {
        "colab": {
          "base_uri": "https://localhost:8080/"
        },
        "id": "35566505",
        "outputId": "6bf448e5-51b4-4327-b280-6c06542aa4ac"
      },
      "outputs": [
        {
          "output_type": "stream",
          "name": "stdout",
          "text": [
            "DFS iterative\n",
            "0 1 6 7 2 5 8 11 3 4 9 10 12 13 "
          ]
        }
      ],
      "source": [
        "# A variable to keep track of whether a vertex is discovered or not\n",
        "discovered = [False] * n\n",
        "\n",
        "# Perform DFS traversal from all undiscovered nodes\n",
        "# to cover all connected components of a graph\n",
        "print('DFS iterative')\n",
        "for i in range(n):\n",
        "    if not discovered[i]:\n",
        "        BFS_iterative(graph, i, discovered)"
      ]
    },
    {
      "cell_type": "markdown",
      "id": "e70ca200",
      "metadata": {
        "id": "e70ca200"
      },
      "source": [
        "## Question 5"
      ]
    },
    {
      "cell_type": "code",
      "execution_count": null,
      "id": "b28f98fb",
      "metadata": {
        "id": "b28f98fb"
      },
      "outputs": [],
      "source": [
        "def isStronglyConnected(graph, n):\n",
        "    # Write your code here\n",
        "    for i in range(n):\n",
        "      visited = [False] * n\n",
        "      BFS_iterative(graph, i, visited)\n",
        "      if False in visited:\n",
        "        return False\n",
        "    return True"
      ]
    },
    {
      "cell_type": "code",
      "execution_count": null,
      "id": "c4e7e6aa",
      "metadata": {
        "colab": {
          "base_uri": "https://localhost:8080/",
          "height": 398
        },
        "id": "c4e7e6aa",
        "outputId": "9ee1692c-7dd1-4a7a-a6f8-ee2b5f7b36ed"
      },
      "outputs": [
        {
          "output_type": "stream",
          "name": "stdout",
          "text": [
            "0 "
          ]
        },
        {
          "output_type": "error",
          "ename": "IndexError",
          "evalue": "ignored",
          "traceback": [
            "\u001b[0;31m---------------------------------------------------------------------------\u001b[0m",
            "\u001b[0;31mIndexError\u001b[0m                                Traceback (most recent call last)",
            "\u001b[0;32m<ipython-input-109-a4177c8239f2>\u001b[0m in \u001b[0;36m<cell line: 10>\u001b[0;34m()\u001b[0m\n\u001b[1;32m      8\u001b[0m \u001b[0;34m\u001b[0m\u001b[0m\n\u001b[1;32m      9\u001b[0m \u001b[0;31m# check if the graph is not strongly connected or not\u001b[0m\u001b[0;34m\u001b[0m\u001b[0;34m\u001b[0m\u001b[0m\n\u001b[0;32m---> 10\u001b[0;31m \u001b[0;32mif\u001b[0m \u001b[0misStronglyConnected\u001b[0m\u001b[0;34m(\u001b[0m\u001b[0mgraph\u001b[0m\u001b[0;34m,\u001b[0m \u001b[0mn\u001b[0m\u001b[0;34m)\u001b[0m\u001b[0;34m:\u001b[0m\u001b[0;34m\u001b[0m\u001b[0;34m\u001b[0m\u001b[0m\n\u001b[0m\u001b[1;32m     11\u001b[0m     \u001b[0mprint\u001b[0m\u001b[0;34m(\u001b[0m\u001b[0;34m'The graph is strongly connected'\u001b[0m\u001b[0;34m)\u001b[0m\u001b[0;34m\u001b[0m\u001b[0;34m\u001b[0m\u001b[0m\n\u001b[1;32m     12\u001b[0m \u001b[0;32melse\u001b[0m\u001b[0;34m:\u001b[0m\u001b[0;34m\u001b[0m\u001b[0;34m\u001b[0m\u001b[0m\n",
            "\u001b[0;32m<ipython-input-108-eda807125930>\u001b[0m in \u001b[0;36misStronglyConnected\u001b[0;34m(graph, n)\u001b[0m\n\u001b[1;32m      3\u001b[0m     \u001b[0;32mfor\u001b[0m \u001b[0mi\u001b[0m \u001b[0;32min\u001b[0m \u001b[0mrange\u001b[0m\u001b[0;34m(\u001b[0m\u001b[0mn\u001b[0m\u001b[0;34m)\u001b[0m\u001b[0;34m:\u001b[0m\u001b[0;34m\u001b[0m\u001b[0;34m\u001b[0m\u001b[0m\n\u001b[1;32m      4\u001b[0m       \u001b[0mvisited\u001b[0m \u001b[0;34m=\u001b[0m \u001b[0;34m[\u001b[0m\u001b[0;32mFalse\u001b[0m\u001b[0;34m]\u001b[0m \u001b[0;34m*\u001b[0m \u001b[0mn\u001b[0m\u001b[0;34m\u001b[0m\u001b[0;34m\u001b[0m\u001b[0m\n\u001b[0;32m----> 5\u001b[0;31m       \u001b[0mBFS_iterative\u001b[0m\u001b[0;34m(\u001b[0m\u001b[0mgraph\u001b[0m\u001b[0;34m,\u001b[0m \u001b[0mi\u001b[0m\u001b[0;34m,\u001b[0m \u001b[0mvisited\u001b[0m\u001b[0;34m)\u001b[0m\u001b[0;34m\u001b[0m\u001b[0;34m\u001b[0m\u001b[0m\n\u001b[0m\u001b[1;32m      6\u001b[0m       \u001b[0;32mif\u001b[0m \u001b[0;32mFalse\u001b[0m \u001b[0;32min\u001b[0m \u001b[0mvisited\u001b[0m\u001b[0;34m:\u001b[0m\u001b[0;34m\u001b[0m\u001b[0;34m\u001b[0m\u001b[0m\n\u001b[1;32m      7\u001b[0m         \u001b[0;32mreturn\u001b[0m \u001b[0;32mFalse\u001b[0m\u001b[0;34m\u001b[0m\u001b[0;34m\u001b[0m\u001b[0m\n",
            "\u001b[0;32m<ipython-input-106-dda992a8e22e>\u001b[0m in \u001b[0;36mBFS_iterative\u001b[0;34m(graph, v, discovered)\u001b[0m\n\u001b[1;32m     11\u001b[0m \u001b[0;34m\u001b[0m\u001b[0m\n\u001b[1;32m     12\u001b[0m       \u001b[0;32mfor\u001b[0m \u001b[0mneighbor\u001b[0m \u001b[0;32min\u001b[0m \u001b[0mgraph\u001b[0m\u001b[0;34m.\u001b[0m\u001b[0madjList\u001b[0m\u001b[0;34m[\u001b[0m\u001b[0mv\u001b[0m\u001b[0;34m]\u001b[0m\u001b[0;34m:\u001b[0m\u001b[0;34m\u001b[0m\u001b[0;34m\u001b[0m\u001b[0m\n\u001b[0;32m---> 13\u001b[0;31m         \u001b[0;32mif\u001b[0m \u001b[0;32mnot\u001b[0m \u001b[0mdiscovered\u001b[0m\u001b[0;34m[\u001b[0m\u001b[0mneighbor\u001b[0m\u001b[0;34m]\u001b[0m\u001b[0;34m:\u001b[0m\u001b[0;34m\u001b[0m\u001b[0;34m\u001b[0m\u001b[0m\n\u001b[0m\u001b[1;32m     14\u001b[0m           \u001b[0mdiscovered\u001b[0m\u001b[0;34m[\u001b[0m\u001b[0mneighbor\u001b[0m\u001b[0;34m]\u001b[0m \u001b[0;34m=\u001b[0m \u001b[0;32mTrue\u001b[0m\u001b[0;34m\u001b[0m\u001b[0;34m\u001b[0m\u001b[0m\n\u001b[1;32m     15\u001b[0m           \u001b[0mqueue\u001b[0m\u001b[0;34m.\u001b[0m\u001b[0mappend\u001b[0m\u001b[0;34m(\u001b[0m\u001b[0mneighbor\u001b[0m\u001b[0;34m)\u001b[0m\u001b[0;34m\u001b[0m\u001b[0;34m\u001b[0m\u001b[0m\n",
            "\u001b[0;31mIndexError\u001b[0m: list index out of range"
          ]
        }
      ],
      "source": [
        "edges = [(0, 4), (1, 0), (1, 2), (2, 1), (2, 4), (3, 1), (3, 2), (4, 3)]\n",
        "\n",
        "# Total number of nodes in the graph\n",
        "n = 5\n",
        "\n",
        "# construct a directed graph\n",
        "dgraph = DGraph(edges, n)\n",
        "\n",
        "# check if the graph is not strongly connected or not\n",
        "if isStronglyConnected(graph, n):\n",
        "    print('The graph is strongly connected')\n",
        "else:\n",
        "    print('The graph is not strongly connected')"
      ]
    }
  ],
  "metadata": {
    "kernelspec": {
      "display_name": "Python 3 (ipykernel)",
      "language": "python",
      "name": "python3"
    },
    "language_info": {
      "codemirror_mode": {
        "name": "ipython",
        "version": 3
      },
      "file_extension": ".py",
      "mimetype": "text/x-python",
      "name": "python",
      "nbconvert_exporter": "python",
      "pygments_lexer": "ipython3",
      "version": "3.9.6"
    },
    "colab": {
      "provenance": [],
      "collapsed_sections": [
        "8eXq9Ti84p3c",
        "KN6VtudDYrWW",
        "ecDb-TkjesG5",
        "GESViqs5eshx",
        "7jrQ4jJybpij",
        "YkyN7bpJe5XS",
        "V8gpTU_ofCtP",
        "cU0M2LoZfD0L",
        "pjW2Lb4TRP87",
        "a854484d"
      ]
    }
  },
  "nbformat": 4,
  "nbformat_minor": 5
}