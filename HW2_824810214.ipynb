{
  "nbformat": 4,
  "nbformat_minor": 0,
  "metadata": {
    "colab": {
      "provenance": []
    },
    "kernelspec": {
      "name": "python3",
      "display_name": "Python 3"
    },
    "language_info": {
      "name": "python"
    }
  },
  "cells": [
    {
      "cell_type": "markdown",
      "source": [
        "CS460 Algorithms - 2023 Spring - Grant Wilson\n",
        "# Programming Homework #2\n",
        "\n"
      ],
      "metadata": {
        "id": "fjIqdUrakWj7"
      }
    },
    {
      "cell_type": "code",
      "source": [
        "import sys\n",
        "print(sys.getrecursionlimit())\n",
        "sys.setrecursionlimit(1500)\n"
      ],
      "metadata": {
        "colab": {
          "base_uri": "https://localhost:8080/"
        },
        "id": "imfQLMChs2lw",
        "outputId": "75146ce5-6b28-432e-e4d2-46f9eadd34af"
      },
      "execution_count": null,
      "outputs": [
        {
          "output_type": "stream",
          "name": "stdout",
          "text": [
            "1500\n"
          ]
        }
      ]
    },
    {
      "cell_type": "markdown",
      "source": [
        "# Question 1"
      ],
      "metadata": {
        "id": "eoWfj_MVk2gI"
      }
    },
    {
      "cell_type": "markdown",
      "source": [
        "Q1. Quick Sort is a Divide and Conquer algorithm that chooses an element as a pivot and\n",
        "partitions the input array around the pivot. Implement the partition and quicksort functions\n",
        "using pseudocode in lecture slides. The pivot can be the last element of the input array."
      ],
      "metadata": {
        "id": "BDpPuSnFk7zc"
      }
    },
    {
      "cell_type": "markdown",
      "source": [
        "\n",
        "\n",
        ">Use the implemented quicksort function to sort 1000 randomly generated integers and\n",
        "record the running time. For example, you can generate the input array using\n",
        "np.random.randint(0, 1000, 1000).\n",
        "\n"
      ],
      "metadata": {
        "id": "Z1gbiWAPlBwU"
      }
    },
    {
      "cell_type": "code",
      "source": [
        "import numpy as np\n",
        "import time\n",
        "\n",
        "def partition(A, p, r):\n",
        "  x = A[r]\n",
        "  i = p - 1\n",
        "  for j in range(p, r):\n",
        "    if A[j] <= x:\n",
        "      i += 1\n",
        "      A[i], A[j] = A[j], A[i]\n",
        "  A[i + 1], A[r] = A[r], A[i + 1]\n",
        "  return i + 1\n",
        "\n",
        "def quicksort(A, p, r):\n",
        "  if p < r:\n",
        "    x = partition(A, p, r)\n",
        "    quicksort(A, p, x - 1)\n",
        "    quicksort(A, x + 1, r)\n",
        "\n",
        "\n",
        "array = np.random.randint(0, 1000, 1000)\n",
        "\n",
        "startTime = time.time()\n",
        "quicksort(array, 0, len(array) - 1)\n",
        "endTime = time.time()\n",
        "\n",
        "print(\"Running Time of Random List: \", endTime - startTime, \" seconds\")\n"
      ],
      "metadata": {
        "colab": {
          "base_uri": "https://localhost:8080/"
        },
        "id": "M8Xk7qlwlGn-",
        "outputId": "9ab8d6a1-986d-4b5e-fd6b-469b37e057f8"
      },
      "execution_count": null,
      "outputs": [
        {
          "output_type": "stream",
          "name": "stdout",
          "text": [
            "Running Time of Random List:  0.005857944488525391  seconds\n"
          ]
        }
      ]
    },
    {
      "cell_type": "markdown",
      "source": [
        "\n",
        "\n",
        ">Use the implemented quicksort function to sort 1000 integers sorted in ascending order and\n",
        "record the running time. For example, you can generate the input array using np.arange(0,\n",
        "1000)\n",
        "\n"
      ],
      "metadata": {
        "id": "y6wOzAetlHsy"
      }
    },
    {
      "cell_type": "code",
      "source": [
        "import numpy as np\n",
        "import time\n",
        "\n",
        "Asc_A = np.arange(0, 1000)\n",
        "startTime = time.time()\n",
        "quicksort(Asc_A, 0, len(Asc_A) - 1)\n",
        "endTime = time.time()\n",
        "print(\"Running Time of Ascending List: \", endTime - startTime, \" seconds\")"
      ],
      "metadata": {
        "colab": {
          "base_uri": "https://localhost:8080/"
        },
        "id": "orV74D6jlPC7",
        "outputId": "eafc448c-1420-4552-878e-c13673d26a10"
      },
      "execution_count": null,
      "outputs": [
        {
          "output_type": "stream",
          "name": "stdout",
          "text": [
            "Running Time of Ascending List:  0.28954458236694336  seconds\n"
          ]
        }
      ]
    },
    {
      "cell_type": "markdown",
      "source": [
        "\n",
        "\n",
        ">Use the implemented quicksort() function to sort 1000 integers sorted in descending order\n",
        "and record the running time. For example, you can generate the input array using\n",
        "np.arange(1000, 0, -1).\n",
        "\n"
      ],
      "metadata": {
        "id": "L0ULTODClPdL"
      }
    },
    {
      "cell_type": "code",
      "source": [
        "import numpy as np\n",
        "import time\n",
        "\n",
        "Des_A = np.arange(1000, 0, -1)\n",
        "startTime = time.time()\n",
        "quicksort(Des_A, 0, len(Des_A) - 1)\n",
        "endTime = time.time()\n",
        "print(\"Running Time of Descending List: \", endTime - startTime, \" seconds\")"
      ],
      "metadata": {
        "colab": {
          "base_uri": "https://localhost:8080/"
        },
        "id": "fZfk4LyJlUXM",
        "outputId": "f80326a2-5b9e-4ab4-c334-37a608bb36ed"
      },
      "execution_count": null,
      "outputs": [
        {
          "output_type": "stream",
          "name": "stdout",
          "text": [
            "Running Time of Descending List:  0.18094682693481445  seconds\n"
          ]
        }
      ]
    },
    {
      "cell_type": "markdown",
      "source": [
        "\n",
        "\n",
        ">Explain why the running time of Q1-(2) and Q1-(3) is greater than the running time of\n",
        "Q1-(1)\n",
        "\n"
      ],
      "metadata": {
        "id": "kQ02PxMelUvq"
      }
    },
    {
      "cell_type": "markdown",
      "source": [
        "\n",
        "\n",
        ">> The running time for Q1-(2) is greater than the running time of Q1-(1) becuase of the selection of where the pviot point is. Q1-(2) should be the fast running time beccuse the list is already sorted and it is best case. The time is longer though because the pivot point is at the end of the list, making the partitions unbalanced and the runtime the worst.\n",
        "Q1-(3) has a longer sort time than Q1-(1) becuase it is already the worst case for Quicksort. A descending list takes the longest time for quicksort to merge."
      ],
      "metadata": {
        "id": "j9gwB4w8uyB1"
      }
    },
    {
      "cell_type": "markdown",
      "source": [
        "\n",
        "\n",
        ">Can you modify the quicksort algorithm to improve the running time for Q1-(2) and Q1-\n",
        "(3) cases? If so, implement the modification and record the running time for sorting the\n",
        "arrays in Q1-(2) and Q1-(3).\n",
        "\n"
      ],
      "metadata": {
        "id": "rsx5cjyIlfTu"
      }
    },
    {
      "cell_type": "code",
      "source": [
        "import numpy as np\n",
        "import time\n",
        "\n",
        "def partition2(A, p, r):\n",
        "  middle = (p + r) // 2\n",
        "  if A[middle] < A[p]:\n",
        "    A[p], A[middle] = A[middle], A[p]\n",
        "  if A[r] < A[p]:\n",
        "    A[p], A[r] = A[r], A[p]\n",
        "  if A[middle] < A[r]:\n",
        "    A[r], A[middle] = A[middle], A[r]\n",
        "  x = A[r]\n",
        "\n",
        "  i = p - 1\n",
        "  for j in range(p, r):\n",
        "    if A[j] <= x:\n",
        "      i += 1\n",
        "      A[i], A[j] = A[j], A[i]\n",
        "  A[i + 1], A[r] = A[r], A[i + 1]\n",
        "  return i + 1\n",
        "\n",
        "def quickersort(A, p, r):\n",
        "  if p < r:\n",
        "    x = partition2(A, p, r)\n",
        "    quicksort(A, p, x - 1)\n",
        "    quicksort(A, x + 1, r)\n",
        "\n",
        "\n",
        "rand_array2 = np.random.randint(0, 1000, 1000)\n",
        "\n",
        "startTime = time.time()\n",
        "quickersort(rand_array2, 0, len(rand_array2) - 1)\n",
        "endTime = time.time()\n",
        "\n",
        "print(\"Running Time of Random List: \", endTime - startTime, \" seconds\")"
      ],
      "metadata": {
        "colab": {
          "base_uri": "https://localhost:8080/"
        },
        "id": "yj0qrzv5wF4u",
        "outputId": "367a4a80-83c2-45b8-f8cc-d779a9f3637a"
      },
      "execution_count": null,
      "outputs": [
        {
          "output_type": "stream",
          "name": "stdout",
          "text": [
            "Running Time of Random List:  0.01353597640991211  seconds\n"
          ]
        }
      ]
    },
    {
      "cell_type": "code",
      "source": [
        "import numpy as np\n",
        "import time\n",
        "\n",
        "Asc_array2 = np.arange(0, 1000)\n",
        "startTime = time.time()\n",
        "quickersort(Asc_array2, 0, len(Asc_array2) - 1)\n",
        "endTime = time.time()\n",
        "print(\"Running Time of Ascending List 2: \", endTime - startTime, \" seconds\")"
      ],
      "metadata": {
        "colab": {
          "base_uri": "https://localhost:8080/"
        },
        "id": "KMb75UzCxK1P",
        "outputId": "bba5b402-b99f-42c2-83ac-60c967ee999d"
      },
      "execution_count": null,
      "outputs": [
        {
          "output_type": "stream",
          "name": "stdout",
          "text": [
            "Running Time of Ascending List 2:  0.13928508758544922  seconds\n"
          ]
        }
      ]
    },
    {
      "cell_type": "code",
      "source": [
        "import numpy as np\n",
        "import time\n",
        "\n",
        "Des_array2 = np.arange(1000, 0, -1)\n",
        "startTime = time.time()\n",
        "quickersort(Des_array2, 0, len(Des_array2) - 1)\n",
        "endTime = time.time()\n",
        "print(\"Running Time of Descending List 2: \", endTime - startTime, \" seconds\")"
      ],
      "metadata": {
        "colab": {
          "base_uri": "https://localhost:8080/"
        },
        "id": "jL8Y-cMyxiwV",
        "outputId": "45ea7e06-a6c2-4fb9-a447-0667bff85c6e"
      },
      "execution_count": null,
      "outputs": [
        {
          "output_type": "stream",
          "name": "stdout",
          "text": [
            "Running Time of Descending List 2:  0.0935978889465332  seconds\n"
          ]
        }
      ]
    },
    {
      "cell_type": "markdown",
      "source": [
        "# Question 2"
      ],
      "metadata": {
        "id": "Q8buphydlqon"
      }
    },
    {
      "cell_type": "markdown",
      "source": [
        "\n",
        "\n",
        "> Heap sort can be implemented with functions MAX-HEAPIFY and BUILD-MAX-HEAP.\n",
        "Sort the following input A in descending order by using your HEAPSORT implementation.\n",
        "\n",
        ">A = [-31, 53, 84, 62, -32, -97, -19, 6, 33, 56, 28, -7, 54, 53, 2, -27, 36, 21, 37, -90]\n",
        "\n",
        "\n"
      ],
      "metadata": {
        "id": "kO-ro4VyluEi"
      }
    },
    {
      "cell_type": "code",
      "source": [
        "def max_heapify(A, i, A_heap_size):\n",
        "  l = 2 * i\n",
        "  r = (2 * i) + 1\n",
        "  if l <= A_heap_size and A[l - 1] < A[i - 1]:\n",
        "    largest = l\n",
        "  else:\n",
        "    largest = i\n",
        "  if r <= A_heap_size and A[r - 1] < A[largest - 1]:\n",
        "    largest = r\n",
        "  if largest != i:\n",
        "    A[i - 1], A[largest - 1] = A[largest - 1], A[i - 1]\n",
        "    max_heapify(A, largest, A_heap_size)\n",
        "\n",
        "def build_max_heap(A):\n",
        "  A_heap_size = len(A)\n",
        "  for i in range(len(A) // 2, 0, -1):\n",
        "    max_heapify(A, i, A_heap_size)\n",
        "\n",
        "def heapsort(A):\n",
        "  build_max_heap(A)\n",
        "  A_heap_size = len(A)\n",
        "  for i in range(len(A), 1, -1):\n",
        "    A[0], A[i - 1] = A[i - 1], A[0]\n",
        "    A_heap_size = A_heap_size - 1\n",
        "    max_heapify(A, 1, A_heap_size)\n",
        "\n",
        "A = [-31, 53, 84, 62, -32, -97, -19, 6, 33, 56, 28, -7, 54, 53, 2, -27, 36, 21, 37, -90]\n",
        "\n",
        "heapsort(A)\n",
        "print(A)\n"
      ],
      "metadata": {
        "colab": {
          "base_uri": "https://localhost:8080/"
        },
        "id": "6iNDjKtLzaYd",
        "outputId": "3fb03ad3-2371-4ae9-edf3-972eadf5f8c2"
      },
      "execution_count": null,
      "outputs": [
        {
          "output_type": "stream",
          "name": "stdout",
          "text": [
            "[84, 62, 56, 54, 53, 53, 37, 36, 33, 28, 21, 6, 2, -7, -19, -27, -31, -32, -90, -97]\n"
          ]
        }
      ]
    },
    {
      "cell_type": "markdown",
      "source": [
        "# Question 3"
      ],
      "metadata": {
        "id": "vcfXFr0w65oW"
      }
    },
    {
      "cell_type": "markdown",
      "source": [
        ">Given an input array consisting of n objects that are colored red, white, or blue, sort the\n",
        "objects in-place so that objects of the same color are adjacent and the colors are ordered red,\n",
        "white, and blue. The colors should be represented using the integers 0, 1, and 2, respectively.\n",
        "\n",
        ">Input = [0, 2, 1, 1, 1, 2, 2, 2, 1, 2, 1, 0, 1, 1, 0, 1, 0, 1, 0, 2, 0, 2, 1, 1, 1, 0, 2, 0, 1, 0]"
      ],
      "metadata": {
        "id": "Pw4O4mHk67tk"
      }
    },
    {
      "cell_type": "code",
      "source": [
        "def colorSort(col):\n",
        "  red, white, blue = 0, 0, len(col) - 1\n",
        "\n",
        "  while white <= blue:\n",
        "    if col[white] == 0:\n",
        "      col[white], col[red] = col[red], col[white]\n",
        "      white += 1\n",
        "      red += 1\n",
        "    elif col[white] == 1:\n",
        "      white += 1\n",
        "    else:\n",
        "      col[white], col[blue] = col[blue], col[white]\n",
        "      blue -= 1\n",
        "\n",
        "Input = [0, 2, 1, 1, 1, 2, 2, 2, 1, 2, 1, 0, 1, 1, 0, 1, 0, 1, 0, 2, 0, 2, 1, 1, 1, 0, 2, 0, 1, 0]\n",
        "colorSort(Input)\n",
        "print(Input)"
      ],
      "metadata": {
        "colab": {
          "base_uri": "https://localhost:8080/"
        },
        "id": "zjsxpYZ07F4h",
        "outputId": "a2f2fece-10d7-4344-b992-77a72c514521"
      },
      "execution_count": null,
      "outputs": [
        {
          "output_type": "stream",
          "name": "stdout",
          "text": [
            "[0, 0, 0, 0, 0, 0, 0, 0, 0, 1, 1, 1, 1, 1, 1, 1, 1, 1, 1, 1, 1, 1, 2, 2, 2, 2, 2, 2, 2, 2]\n"
          ]
        }
      ]
    },
    {
      "cell_type": "markdown",
      "source": [
        "# Question 4"
      ],
      "metadata": {
        "id": "MZUEKzSl9y9e"
      }
    },
    {
      "cell_type": "markdown",
      "source": [
        "The Max-Min problem involves finding the maximum and minimum elements in a given array.\n",
        "You can solve this problem by using the divide-and-conquer approach. Implement an algorithm to\n",
        "find the maximum and minimum elements in the sequence A using the divide-and-conquer\n",
        "approach. The input sequence is provided below:\n",
        "\n",
        "A = [-100, 10, 5, 6, -62, 23, 14, 4, 7, -78, 3, -12, 94, 97, -32, 1, 2]"
      ],
      "metadata": {
        "id": "oOOE7n5X92yw"
      }
    },
    {
      "cell_type": "code",
      "source": [
        "def find_min_max(sequence, beg, end):\n",
        "    if end - beg == 0:\n",
        "        return None, None\n",
        "    elif end - beg == 1:\n",
        "        return sequence[beg], sequence[beg]\n",
        "    elif end - beg == 2:\n",
        "        if sequence[beg] < sequence[beg + 1]:\n",
        "            return sequence[beg], sequence[beg + 1]\n",
        "        else:\n",
        "            return sequence[beg + 1], sequence[beg]\n",
        "    else:\n",
        "        mid = beg + (end - beg) // 2\n",
        "        left_min, left_max = find_min_max(sequence, beg, mid)\n",
        "        right_min, right_max = find_min_max(sequence, mid, end)\n",
        "        overall_min = sequence[beg] if sequence[beg] < sequence[mid] else sequence[mid]\n",
        "        overall_max = left_max if left_max > right_max else right_max\n",
        "        overall_min = overall_min if overall_min < right_min else right_min\n",
        "        return overall_min, overall_max\n",
        "\n",
        "A = [-100, 10, 5, 6, -62, 23, 14, 4, 7, -78, 3, -12, 94, 97, -32, 1, 2]\n",
        "\n",
        "min_val, max_val = find_min_max(A, 0, len(A))\n",
        "\n",
        "print(\"Minimum value:\", min_val)\n",
        "print(\"Maximum value:\", max_val)"
      ],
      "metadata": {
        "colab": {
          "base_uri": "https://localhost:8080/"
        },
        "id": "KN1om8rh99TF",
        "outputId": "4fdfd3b5-e1fc-4077-f83c-2a965c64163e"
      },
      "execution_count": null,
      "outputs": [
        {
          "output_type": "stream",
          "name": "stdout",
          "text": [
            "Minimum value: -100\n",
            "Maximum value: 97\n"
          ]
        }
      ]
    },
    {
      "cell_type": "markdown",
      "source": [
        "# Question 5"
      ],
      "metadata": {
        "id": "k5c-tLCN-D1K"
      }
    },
    {
      "cell_type": "markdown",
      "source": [
        "Generate a random input array by using “input = np.random.randint(0, 100, 10**3)”. Assume\n",
        "the input array represents the daily price of an item, where input[0] is the price of day 0, input[1]\n",
        "is the price of day 1, and so on. The goal is to maximize the profit by buying and selling the item.\n",
        "To do so, calculate the change in price from the given integer array input, identify the contiguous\n",
        "subarray with the highest sum, and return its sum"
      ],
      "metadata": {
        "id": "5BmqJfa--G0y"
      }
    },
    {
      "cell_type": "markdown",
      "source": [
        ">Write a code using the brute-force method and record its running time."
      ],
      "metadata": {
        "id": "wa6LNEiq-NrW"
      }
    },
    {
      "cell_type": "code",
      "source": [
        "import numpy as np\n",
        "import time\n",
        "\n",
        "def brute_force_find_max(A, low, high):\n",
        "    max_profit = 0\n",
        "    max_left = None\n",
        "    max_right = None\n",
        "    for i in range(low, high):\n",
        "        for j in range(i+1, high+1):\n",
        "            profit = A[j] - A[i]\n",
        "            if profit > max_profit:\n",
        "                max_profit = profit\n",
        "                max_left = i\n",
        "                max_right = j\n",
        "    return (max_left, max_right, max_profit)\n",
        "\n",
        "input_array = np.random.randint(0, 100, 10**3)\n",
        "\n",
        "startTime = time.time()\n",
        "max_left, max_right, max_profit = brute_force_find_max(input_array, 0, len(input_array)-1)\n",
        "endTime = time.time()\n",
        "\n",
        "print(\"Brute Force Maximum Profit: \", max_profit)\n",
        "print(\"Indices: \", max_left, max_right)\n",
        "print(\"Running Time of Brute Force: \", endTime - startTime, \" seconds\")\n"
      ],
      "metadata": {
        "id": "kTWWL4yN-TBw",
        "colab": {
          "base_uri": "https://localhost:8080/"
        },
        "outputId": "6ef8d92d-1f9b-4e20-d44d-39632ec10a38"
      },
      "execution_count": null,
      "outputs": [
        {
          "output_type": "stream",
          "name": "stdout",
          "text": [
            "Brute Force Maximum Profit:  99\n",
            "Indices:  44 107\n",
            "Running Time of Brute Force:  0.16289544105529785  seconds\n"
          ]
        }
      ]
    },
    {
      "cell_type": "markdown",
      "source": [
        ">Propose any algorithm, such as using the divide-and-conquer approach, to improve the\n",
        "running time of the maximum subarray problem. Measure its running time and compare it\n",
        "to the result of Q5-(1)"
      ],
      "metadata": {
        "id": "-Hpx1F07-RkH"
      }
    },
    {
      "cell_type": "code",
      "source": [
        "import numpy as np\n",
        "import time\n",
        "\n",
        "def find_max_crossing_subarray(A, low, mid, high):\n",
        "    left_sum = float(\"-Infinity\")\n",
        "    sum = 0\n",
        "    for i in range(mid, low - 1, -1):\n",
        "        sum += A[i]\n",
        "        if sum > left_sum:\n",
        "            left_sum = sum\n",
        "            max_left = i\n",
        "    right_sum = float(\"-Infinity\")\n",
        "    sum = 0\n",
        "    for j in range(mid + 1, high + 1):\n",
        "        sum += A[j]\n",
        "        if sum > right_sum:\n",
        "            right_sum = sum\n",
        "            max_right = j\n",
        "    return (max_left, max_right, left_sum + right_sum)\n",
        "\n",
        "def find_maximum_subarray(A, low, high):\n",
        "    if high == low:\n",
        "        return (low, high, A[low])\n",
        "    else:\n",
        "        mid = (low + high) // 2\n",
        "        (left_low, left_high, left_sum) = find_maximum_subarray(A, low, mid)\n",
        "        (right_low, right_high, right_sum) = find_maximum_subarray(A, mid + 1, high)\n",
        "        (cross_low, cross_high, cross_sum) = find_max_crossing_subarray(A, low, mid, high)\n",
        "        if left_sum >= right_sum and left_sum >= cross_sum:\n",
        "            return (left_low, left_high, left_sum)\n",
        "        elif right_sum >= left_sum and right_sum >= cross_sum:\n",
        "            return (right_low, right_high, right_sum)\n",
        "        else:\n",
        "            return (cross_low, cross_high, cross_sum)\n",
        "\n",
        "\n",
        "input = np.random.randint(0, 100, 10**3)\n",
        "\n",
        "startTime = time.time()\n",
        "result = find_maximum_subarray(input, 0, len(input) - 1)\n",
        "endTime = time.time()\n",
        "\n",
        "print(\"Divide-And-Conquer Maximum Profit: \", result[2])\n",
        "print(\"Indices: \", result[0], \"-\", result[1])\n",
        "print(\"Running time of Divide-And-Conquer: \", endTime - startTime, \"seconds\")\n"
      ],
      "metadata": {
        "id": "-uc5ZRrY-RP5",
        "colab": {
          "base_uri": "https://localhost:8080/"
        },
        "outputId": "63fe1fed-ba20-4588-df89-2b09dc6ba55b"
      },
      "execution_count": null,
      "outputs": [
        {
          "output_type": "stream",
          "name": "stdout",
          "text": [
            "Divide-And-Conquer Maximum Profit:  50008\n",
            "Indices:  0 - 999\n",
            "Running time of Divide-And-Conquer:  0.009330511093139648 seconds\n"
          ]
        }
      ]
    },
    {
      "cell_type": "markdown",
      "source": [
        ">Using asymptotic notations, compare the complexity of a brute-force method from Q5-(1)\n",
        "and your algorithm in Q5-(2)."
      ],
      "metadata": {
        "id": "3bUkEuF5-Yc1"
      }
    },
    {
      "cell_type": "markdown",
      "source": [
        ">>The Brute Force Method has a time completixy of O(n^2). The two nested loops that go over all possible subarrays result in (n-1)/2 iterations.\n",
        "\n",
        ">>The Divide and Conquer Method has a time complexity of O(nlogn). This is becuase the method divides the array into two halves at every step, and then finds the maximum that crosses the midpoint. This makes the Divide and Conquer more efficient in computing large input sizes."
      ],
      "metadata": {
        "id": "UR7M99Y6zh26"
      }
    }
  ]
}