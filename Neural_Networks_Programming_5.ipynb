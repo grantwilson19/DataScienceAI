{
  "cells": [
    {
      "cell_type": "markdown",
      "metadata": {
        "id": "qamQ47OizOA7"
      },
      "source": [
        "## Assignment 5 - Neural Networks\n",
        "### CS450 Fall 2022\n",
        "\n",
        "This assignment contains 3 problems.\n",
        "We will not use a grading script for this assignment, but the grading criteria is explained in the instructions.\n"
      ]
    },
    {
      "cell_type": "markdown",
      "source": [
        "## STEP 0\n",
        "*COPY NOTEBOOK TO YOUR DRIVE*"
      ],
      "metadata": {
        "id": "hORnYEDQmo0B"
      }
    },
    {
      "cell_type": "markdown",
      "metadata": {
        "id": "5lgNnA0dzOA-"
      },
      "source": [
        "Student Name: Grant Wilson\n",
        "<br>If you used pair programming..\n",
        "<br>Programming Partner: Manuel Osuna\n"
      ]
    },
    {
      "cell_type": "code",
      "source": [
        "import tensorflow as tf\n",
        "import pandas as pd\n",
        "import numpy as np\n",
        "import matplotlib.pyplot as plt\n",
        "from sklearn.metrics import mean_absolute_error\n",
        "from sklearn.metrics import mean_squared_error\n",
        "from sklearn.model_selection import train_test_split\n",
        "from sklearn.preprocessing import MinMaxScaler\n",
        "from tensorflow.keras.models import Sequential\n",
        "from tensorflow.keras.layers import Dense\n",
        "tf.random.set_seed(1)"
      ],
      "metadata": {
        "id": "9tUZ12lWgXom"
      },
      "execution_count": null,
      "outputs": []
    },
    {
      "cell_type": "markdown",
      "metadata": {
        "id": "Wh3kol_JzOBE"
      },
      "source": [
        "### Problem 1 - MNIST Data Set (10 points)\n",
        "* Use the MNIST dataset to classify the type of apparel using an artificial nueral network.\n",
        "* https://www.kaggle.com/zalando-research/fashionmnist\n",
        "* You may use the library of your choosing\n",
        "* We went over this is class, so this is an easy one to get you started.\n",
        "* Grading criteria: Your results on the test data should exceed 0.80 accuracy and you have some explaination about the model.\n"
      ]
    },
    {
      "cell_type": "code",
      "execution_count": null,
      "metadata": {
        "id": "o0nQJIhwzOBE"
      },
      "outputs": [],
      "source": [
        "### You code here\n",
        "from tensorflow.keras.datasets import fashion_mnist\n",
        "(X_train, y_train), (X_test, y_test) = fashion_mnist.load_data()"
      ]
    },
    {
      "cell_type": "code",
      "source": [
        "# Normalization\n",
        "# Makes the image range between 0 and 1\n",
        "X_train = X_train/255.0\n",
        "X_test = X_test/255.0"
      ],
      "metadata": {
        "id": "_IE1-H5c2shl"
      },
      "execution_count": null,
      "outputs": []
    },
    {
      "cell_type": "code",
      "source": [
        "# Reshape into a One-dimensional vector\n",
        "X_train = X_train.reshape(-1, 28*28)\n",
        "X_test = X_test.reshape(-1, 28*28)"
      ],
      "metadata": {
        "id": "FWho5LUi2wob"
      },
      "execution_count": null,
      "outputs": []
    },
    {
      "cell_type": "code",
      "source": [
        "# Create Model Object\n",
        "model = tf.keras.models.Sequential()"
      ],
      "metadata": {
        "id": "hx1qkOKI2y4U"
      },
      "execution_count": null,
      "outputs": []
    },
    {
      "cell_type": "code",
      "source": [
        "#Add the first fully connected layer\n",
        "model.add(tf.keras.layers.Dense(units = 128, activation = 'relu', input_shape = (784,)))"
      ],
      "metadata": {
        "id": "hP_zU9sbAT5m"
      },
      "execution_count": null,
      "outputs": []
    },
    {
      "cell_type": "code",
      "source": [
        "# Add a dropout layer\n",
        "model.add(tf.keras.layers.Dropout(0.2))"
      ],
      "metadata": {
        "id": "hjiP3y6S2464"
      },
      "execution_count": null,
      "outputs": []
    },
    {
      "cell_type": "code",
      "source": [
        "# Add output layer\n",
        "model.add(tf.keras.layers.Dense(units = 10, activation = 'softmax'))"
      ],
      "metadata": {
        "id": "D13UhvjO3B7O"
      },
      "execution_count": null,
      "outputs": []
    },
    {
      "cell_type": "code",
      "source": [
        "# Complie the model\n",
        "model.compile(optimizer = 'adam', loss = 'sparse_categorical_crossentropy', metrics = ['sparse_categorical_accuracy'])\n"
      ],
      "metadata": {
        "id": "byBRpa3O3S4a"
      },
      "execution_count": null,
      "outputs": []
    },
    {
      "cell_type": "code",
      "source": [
        "# Train the model\n",
        "model.fit(X_train, y_train, epochs =5)"
      ],
      "metadata": {
        "colab": {
          "base_uri": "https://localhost:8080/"
        },
        "id": "XPzDVVwT3TgI",
        "outputId": "ef613e86-f441-4de1-9dd0-81cbfdc4f0e0"
      },
      "execution_count": null,
      "outputs": [
        {
          "output_type": "stream",
          "name": "stdout",
          "text": [
            "Epoch 1/5\n",
            "1875/1875 [==============================] - 8s 4ms/step - loss: 0.3223 - sparse_categorical_accuracy: 0.8818\n",
            "Epoch 2/5\n",
            "1875/1875 [==============================] - 8s 5ms/step - loss: 0.3091 - sparse_categorical_accuracy: 0.8849\n",
            "Epoch 3/5\n",
            "1875/1875 [==============================] - 9s 5ms/step - loss: 0.3019 - sparse_categorical_accuracy: 0.8893\n",
            "Epoch 4/5\n",
            "1875/1875 [==============================] - 10s 5ms/step - loss: 0.2941 - sparse_categorical_accuracy: 0.8900\n",
            "Epoch 5/5\n",
            "1875/1875 [==============================] - 9s 5ms/step - loss: 0.2879 - sparse_categorical_accuracy: 0.8918\n"
          ]
        },
        {
          "output_type": "execute_result",
          "data": {
            "text/plain": [
              "<keras.callbacks.History at 0x7f5033920a00>"
            ]
          },
          "metadata": {},
          "execution_count": 23
        }
      ]
    },
    {
      "cell_type": "code",
      "source": [
        "# Evaluate the model\n",
        "test_loss, test_accuracy = model.evaluate(X_test, y_test)"
      ],
      "metadata": {
        "colab": {
          "base_uri": "https://localhost:8080/"
        },
        "id": "E5wWcoh73VoT",
        "outputId": "3503c8b0-9615-414d-af71-d18698cf3022"
      },
      "execution_count": null,
      "outputs": [
        {
          "output_type": "stream",
          "name": "stdout",
          "text": [
            "313/313 [==============================] - 1s 2ms/step - loss: 0.3370 - sparse_categorical_accuracy: 0.8833\n"
          ]
        }
      ]
    },
    {
      "cell_type": "code",
      "source": [
        "print(\"Test Accuracy\",test_accuracy)\n"
      ],
      "metadata": {
        "colab": {
          "base_uri": "https://localhost:8080/"
        },
        "id": "ifX4bBk-3W6r",
        "outputId": "44636997-80ac-4b58-d412-baed29102073"
      },
      "execution_count": null,
      "outputs": [
        {
          "output_type": "stream",
          "name": "stdout",
          "text": [
            "Test Accuracy 0.8833000063896179\n"
          ]
        }
      ]
    },
    {
      "cell_type": "markdown",
      "metadata": {
        "id": "b3EsCADozOBF"
      },
      "source": [
        "Provide an explanation on how you picked the initial parameters: The hyperparameters that were picked were 128 neurons, ReLU activation function, and an input shape of 784. The input shape is based of the amount of classes, and neurons were selcted to work best with the size.\n"
      ]
    },
    {
      "cell_type": "markdown",
      "metadata": {
        "id": "z5ayzH6GzOBF"
      },
      "source": [
        "### Problem 2 - Poker Hand Classification (30 points)\n",
        "* Use the Pokerhand dataset at https://archive.ics.uci.edu/ml/machine-learning-databases/poker/\n",
        "* Pay attention to class distribution.\n",
        "  * Do you need to do anything to balance the data?\n",
        "* How does it affect ANNs if the training data is ordered?\n",
        "* I mentioned early stopping in class but didn't go into detail. Implement early stopping in your model\n",
        "  * This article provides an example of early stopping with Keras and Tensorflow\n",
        "  * https://towardsdatascience.com/a-practical-introduction-to-early-stopping-in-machine-learning-550ac88bc8fd\n",
        "  * Provide a visualization of training and cross validation loss at each epoch\n",
        "* Provide a confusion matrix and F1 score for the test data\n",
        "* The output of the model will be probabilities of each class. I like to use np.argmax to get the most probable class, but you may use other techniques."
      ]
    },
    {
      "cell_type": "code",
      "source": [
        "import pandas as pd\n",
        "import numpy as np\n",
        "import matplotlib.pyplot as plt\n",
        "from sklearn.model_selection import train_test_split\n",
        "from sklearn.preprocessing import StandardScaler\n",
        "from sklearn.metrics import confusion_matrix, f1_score\n",
        "import tensorflow as tf\n",
        "from tensorflow.keras.models import Sequential\n",
        "from tensorflow.keras.layers import Dense\n",
        "from tensorflow.keras.callbacks import EarlyStopping\n",
        "from imblearn.over_sampling import RandomOverSampler"
      ],
      "metadata": {
        "id": "PdWNWPjlhtXA"
      },
      "execution_count": null,
      "outputs": []
    },
    {
      "cell_type": "code",
      "source": [
        "names = ['S1','C1','S2','C2','S3','C3','S4','C4','S5','C5','Class']"
      ],
      "metadata": {
        "id": "LxFDTGcnFe6v"
      },
      "execution_count": null,
      "outputs": []
    },
    {
      "cell_type": "code",
      "source": [
        "dfPoker = pd.read_csv(\"https://archive.ics.uci.edu/ml/machine-learning-databases/poker/poker-hand-training-true.data\",header=None,names=names)"
      ],
      "metadata": {
        "id": "PYZ3lvhGFz4k"
      },
      "execution_count": null,
      "outputs": []
    },
    {
      "cell_type": "code",
      "source": [
        "dfPoker.head()"
      ],
      "metadata": {
        "colab": {
          "base_uri": "https://localhost:8080/",
          "height": 206
        },
        "id": "zqQQREueGB4g",
        "outputId": "62e7713e-7dbb-4b77-8d38-c8643f12320b"
      },
      "execution_count": null,
      "outputs": [
        {
          "output_type": "execute_result",
          "data": {
            "text/plain": [
              "   S1  C1  S2  C2  S3  C3  S4  C4  S5  C5  Class\n",
              "0   1  10   1  11   1  13   1  12   1   1      9\n",
              "1   2  11   2  13   2  10   2  12   2   1      9\n",
              "2   3  12   3  11   3  13   3  10   3   1      9\n",
              "3   4  10   4  11   4   1   4  13   4  12      9\n",
              "4   4   1   4  13   4  12   4  11   4  10      9"
            ],
            "text/html": [
              "\n",
              "  <div id=\"df-cc6710e6-0e48-4462-8816-c658e351b5dd\">\n",
              "    <div class=\"colab-df-container\">\n",
              "      <div>\n",
              "<style scoped>\n",
              "    .dataframe tbody tr th:only-of-type {\n",
              "        vertical-align: middle;\n",
              "    }\n",
              "\n",
              "    .dataframe tbody tr th {\n",
              "        vertical-align: top;\n",
              "    }\n",
              "\n",
              "    .dataframe thead th {\n",
              "        text-align: right;\n",
              "    }\n",
              "</style>\n",
              "<table border=\"1\" class=\"dataframe\">\n",
              "  <thead>\n",
              "    <tr style=\"text-align: right;\">\n",
              "      <th></th>\n",
              "      <th>S1</th>\n",
              "      <th>C1</th>\n",
              "      <th>S2</th>\n",
              "      <th>C2</th>\n",
              "      <th>S3</th>\n",
              "      <th>C3</th>\n",
              "      <th>S4</th>\n",
              "      <th>C4</th>\n",
              "      <th>S5</th>\n",
              "      <th>C5</th>\n",
              "      <th>Class</th>\n",
              "    </tr>\n",
              "  </thead>\n",
              "  <tbody>\n",
              "    <tr>\n",
              "      <th>0</th>\n",
              "      <td>1</td>\n",
              "      <td>10</td>\n",
              "      <td>1</td>\n",
              "      <td>11</td>\n",
              "      <td>1</td>\n",
              "      <td>13</td>\n",
              "      <td>1</td>\n",
              "      <td>12</td>\n",
              "      <td>1</td>\n",
              "      <td>1</td>\n",
              "      <td>9</td>\n",
              "    </tr>\n",
              "    <tr>\n",
              "      <th>1</th>\n",
              "      <td>2</td>\n",
              "      <td>11</td>\n",
              "      <td>2</td>\n",
              "      <td>13</td>\n",
              "      <td>2</td>\n",
              "      <td>10</td>\n",
              "      <td>2</td>\n",
              "      <td>12</td>\n",
              "      <td>2</td>\n",
              "      <td>1</td>\n",
              "      <td>9</td>\n",
              "    </tr>\n",
              "    <tr>\n",
              "      <th>2</th>\n",
              "      <td>3</td>\n",
              "      <td>12</td>\n",
              "      <td>3</td>\n",
              "      <td>11</td>\n",
              "      <td>3</td>\n",
              "      <td>13</td>\n",
              "      <td>3</td>\n",
              "      <td>10</td>\n",
              "      <td>3</td>\n",
              "      <td>1</td>\n",
              "      <td>9</td>\n",
              "    </tr>\n",
              "    <tr>\n",
              "      <th>3</th>\n",
              "      <td>4</td>\n",
              "      <td>10</td>\n",
              "      <td>4</td>\n",
              "      <td>11</td>\n",
              "      <td>4</td>\n",
              "      <td>1</td>\n",
              "      <td>4</td>\n",
              "      <td>13</td>\n",
              "      <td>4</td>\n",
              "      <td>12</td>\n",
              "      <td>9</td>\n",
              "    </tr>\n",
              "    <tr>\n",
              "      <th>4</th>\n",
              "      <td>4</td>\n",
              "      <td>1</td>\n",
              "      <td>4</td>\n",
              "      <td>13</td>\n",
              "      <td>4</td>\n",
              "      <td>12</td>\n",
              "      <td>4</td>\n",
              "      <td>11</td>\n",
              "      <td>4</td>\n",
              "      <td>10</td>\n",
              "      <td>9</td>\n",
              "    </tr>\n",
              "  </tbody>\n",
              "</table>\n",
              "</div>\n",
              "      <button class=\"colab-df-convert\" onclick=\"convertToInteractive('df-cc6710e6-0e48-4462-8816-c658e351b5dd')\"\n",
              "              title=\"Convert this dataframe to an interactive table.\"\n",
              "              style=\"display:none;\">\n",
              "        \n",
              "  <svg xmlns=\"http://www.w3.org/2000/svg\" height=\"24px\"viewBox=\"0 0 24 24\"\n",
              "       width=\"24px\">\n",
              "    <path d=\"M0 0h24v24H0V0z\" fill=\"none\"/>\n",
              "    <path d=\"M18.56 5.44l.94 2.06.94-2.06 2.06-.94-2.06-.94-.94-2.06-.94 2.06-2.06.94zm-11 1L8.5 8.5l.94-2.06 2.06-.94-2.06-.94L8.5 2.5l-.94 2.06-2.06.94zm10 10l.94 2.06.94-2.06 2.06-.94-2.06-.94-.94-2.06-.94 2.06-2.06.94z\"/><path d=\"M17.41 7.96l-1.37-1.37c-.4-.4-.92-.59-1.43-.59-.52 0-1.04.2-1.43.59L10.3 9.45l-7.72 7.72c-.78.78-.78 2.05 0 2.83L4 21.41c.39.39.9.59 1.41.59.51 0 1.02-.2 1.41-.59l7.78-7.78 2.81-2.81c.8-.78.8-2.07 0-2.86zM5.41 20L4 18.59l7.72-7.72 1.47 1.35L5.41 20z\"/>\n",
              "  </svg>\n",
              "      </button>\n",
              "      \n",
              "  <style>\n",
              "    .colab-df-container {\n",
              "      display:flex;\n",
              "      flex-wrap:wrap;\n",
              "      gap: 12px;\n",
              "    }\n",
              "\n",
              "    .colab-df-convert {\n",
              "      background-color: #E8F0FE;\n",
              "      border: none;\n",
              "      border-radius: 50%;\n",
              "      cursor: pointer;\n",
              "      display: none;\n",
              "      fill: #1967D2;\n",
              "      height: 32px;\n",
              "      padding: 0 0 0 0;\n",
              "      width: 32px;\n",
              "    }\n",
              "\n",
              "    .colab-df-convert:hover {\n",
              "      background-color: #E2EBFA;\n",
              "      box-shadow: 0px 1px 2px rgba(60, 64, 67, 0.3), 0px 1px 3px 1px rgba(60, 64, 67, 0.15);\n",
              "      fill: #174EA6;\n",
              "    }\n",
              "\n",
              "    [theme=dark] .colab-df-convert {\n",
              "      background-color: #3B4455;\n",
              "      fill: #D2E3FC;\n",
              "    }\n",
              "\n",
              "    [theme=dark] .colab-df-convert:hover {\n",
              "      background-color: #434B5C;\n",
              "      box-shadow: 0px 1px 3px 1px rgba(0, 0, 0, 0.15);\n",
              "      filter: drop-shadow(0px 1px 2px rgba(0, 0, 0, 0.3));\n",
              "      fill: #FFFFFF;\n",
              "    }\n",
              "  </style>\n",
              "\n",
              "      <script>\n",
              "        const buttonEl =\n",
              "          document.querySelector('#df-cc6710e6-0e48-4462-8816-c658e351b5dd button.colab-df-convert');\n",
              "        buttonEl.style.display =\n",
              "          google.colab.kernel.accessAllowed ? 'block' : 'none';\n",
              "\n",
              "        async function convertToInteractive(key) {\n",
              "          const element = document.querySelector('#df-cc6710e6-0e48-4462-8816-c658e351b5dd');\n",
              "          const dataTable =\n",
              "            await google.colab.kernel.invokeFunction('convertToInteractive',\n",
              "                                                     [key], {});\n",
              "          if (!dataTable) return;\n",
              "\n",
              "          const docLinkHtml = 'Like what you see? Visit the ' +\n",
              "            '<a target=\"_blank\" href=https://colab.research.google.com/notebooks/data_table.ipynb>data table notebook</a>'\n",
              "            + ' to learn more about interactive tables.';\n",
              "          element.innerHTML = '';\n",
              "          dataTable['output_type'] = 'display_data';\n",
              "          await google.colab.output.renderOutput(dataTable, element);\n",
              "          const docLink = document.createElement('div');\n",
              "          docLink.innerHTML = docLinkHtml;\n",
              "          element.appendChild(docLink);\n",
              "        }\n",
              "      </script>\n",
              "    </div>\n",
              "  </div>\n",
              "  "
            ]
          },
          "metadata": {},
          "execution_count": 4
        }
      ]
    },
    {
      "cell_type": "code",
      "source": [
        "dfPoker.dtypes"
      ],
      "metadata": {
        "colab": {
          "base_uri": "https://localhost:8080/"
        },
        "id": "UD54b6noG5h6",
        "outputId": "3932bad9-2df1-4ad2-9a36-2f5df56c3d8d"
      },
      "execution_count": null,
      "outputs": [
        {
          "output_type": "execute_result",
          "data": {
            "text/plain": [
              "S1       int64\n",
              "C1       int64\n",
              "S2       int64\n",
              "C2       int64\n",
              "S3       int64\n",
              "C3       int64\n",
              "S4       int64\n",
              "C4       int64\n",
              "S5       int64\n",
              "C5       int64\n",
              "Class    int64\n",
              "dtype: object"
            ]
          },
          "metadata": {},
          "execution_count": 5
        }
      ]
    },
    {
      "cell_type": "code",
      "source": [
        "### Your code here\n",
        "print(dfPoker['Class'].value_counts())"
      ],
      "metadata": {
        "id": "pQUM7Ae6Ghtc",
        "colab": {
          "base_uri": "https://localhost:8080/"
        },
        "outputId": "1d29c0f0-dd17-40ea-869b-6252ffc2ee90"
      },
      "execution_count": null,
      "outputs": [
        {
          "output_type": "stream",
          "name": "stdout",
          "text": [
            "0    12493\n",
            "1    10599\n",
            "2     1206\n",
            "3      513\n",
            "4       93\n",
            "5       54\n",
            "6       36\n",
            "7        6\n",
            "9        5\n",
            "8        5\n",
            "Name: Class, dtype: int64\n"
          ]
        }
      ]
    },
    {
      "cell_type": "markdown",
      "source": [
        "As shown, class 0 and 1 have a majority of the data. This would cause issues during training. To balance the set, we use RandomOverSampler in order to over-sample to classes with small amounts of data, this will make sure that the data is balanced."
      ],
      "metadata": {
        "id": "AHt6WYMFg70U"
      }
    },
    {
      "cell_type": "code",
      "source": [
        "oversampler = RandomOverSampler(random_state=42)\n",
        "X, y = oversampler.fit_resample(dfPoker.drop('Class', axis=1), dfPoker['Class'])\n",
        "dfPoker_balanced = pd.concat([X, y], axis=1)\n",
        "print(dfPoker_balanced['Class'].value_counts())"
      ],
      "metadata": {
        "colab": {
          "base_uri": "https://localhost:8080/"
        },
        "id": "rJStSyw4hiA6",
        "outputId": "e3714800-b703-4c6c-cc59-5190c4d2ad9c"
      },
      "execution_count": null,
      "outputs": [
        {
          "output_type": "stream",
          "name": "stdout",
          "text": [
            "9    12493\n",
            "8    12493\n",
            "1    12493\n",
            "0    12493\n",
            "4    12493\n",
            "3    12493\n",
            "2    12493\n",
            "5    12493\n",
            "6    12493\n",
            "7    12493\n",
            "Name: Class, dtype: int64\n"
          ]
        }
      ]
    },
    {
      "cell_type": "code",
      "source": [
        "# Split the data into training and testing sets\n",
        "X_train, X_test, y_train, y_test = train_test_split(dfPoker_balanced.drop('Class', axis=1), dfPoker_balanced['Class'], test_size=0.2, random_state=42)"
      ],
      "metadata": {
        "id": "Gk-YFIXWljvr"
      },
      "execution_count": null,
      "outputs": []
    },
    {
      "cell_type": "code",
      "source": [
        "# Normalize the data\n",
        "scaler = StandardScaler()\n",
        "X_train = scaler.fit_transform(X_train)\n",
        "X_test = scaler.transform(X_test)"
      ],
      "metadata": {
        "id": "gP8ZFaodluPc"
      },
      "execution_count": null,
      "outputs": []
    },
    {
      "cell_type": "code",
      "source": [
        "# Define the neural network model\n",
        "model = Sequential()\n",
        "# Input Layer (input shape is 10 for the 10 classes)\n",
        "model.add(Dense(64, input_shape=(10,), activation='relu'))\n",
        "# Hidden Layers\n",
        "model.add(Dense(48, activation='relu'))\n",
        "model.add(Dense(12, activation='relu'))\n",
        "# Output Layer\n",
        "model.add(Dense(10, activation='softmax'))"
      ],
      "metadata": {
        "id": "RIN8d3-jsQ-g"
      },
      "execution_count": null,
      "outputs": []
    },
    {
      "cell_type": "code",
      "source": [
        "# Compile the model\n",
        "model.compile(optimizer='adam', loss='sparse_categorical_crossentropy', metrics=['accuracy'])"
      ],
      "metadata": {
        "id": "W4UCCcuNl3FQ"
      },
      "execution_count": null,
      "outputs": []
    },
    {
      "cell_type": "code",
      "source": [
        "# Define early stopping\n",
        "early_stop = EarlyStopping(monitor='val_loss', patience=5)"
      ],
      "metadata": {
        "id": "Y4PmpxaVm7XV"
      },
      "execution_count": null,
      "outputs": []
    },
    {
      "cell_type": "code",
      "source": [
        "print(X_train.shape)"
      ],
      "metadata": {
        "colab": {
          "base_uri": "https://localhost:8080/"
        },
        "id": "6uQahjWgosDw",
        "outputId": "be0153b9-cf24-42d0-d1e1-a4377249de5a"
      },
      "execution_count": null,
      "outputs": [
        {
          "output_type": "stream",
          "name": "stdout",
          "text": [
            "(99944, 10)\n"
          ]
        }
      ]
    },
    {
      "cell_type": "code",
      "source": [
        "# Train the model\n",
        "history = model.fit(X_train, y_train, epochs=10, batch_size=64, validation_split=0.2, callbacks=[early_stop])\n"
      ],
      "metadata": {
        "colab": {
          "base_uri": "https://localhost:8080/"
        },
        "id": "FwKl8XkqnEyx",
        "outputId": "035aa789-edf0-4b95-ec48-897ce0e25314"
      },
      "execution_count": null,
      "outputs": [
        {
          "output_type": "stream",
          "name": "stdout",
          "text": [
            "Epoch 1/10\n",
            "1250/1250 [==============================] - 4s 3ms/step - loss: 1.1398 - accuracy: 0.5705 - val_loss: 0.7925 - val_accuracy: 0.6883\n",
            "Epoch 2/10\n",
            "1250/1250 [==============================] - 4s 3ms/step - loss: 0.6935 - accuracy: 0.7121 - val_loss: 0.6485 - val_accuracy: 0.7244\n",
            "Epoch 3/10\n",
            "1250/1250 [==============================] - 3s 2ms/step - loss: 0.5992 - accuracy: 0.7377 - val_loss: 0.5847 - val_accuracy: 0.7462\n",
            "Epoch 4/10\n",
            "1250/1250 [==============================] - 3s 3ms/step - loss: 0.5560 - accuracy: 0.7509 - val_loss: 0.5627 - val_accuracy: 0.7444\n",
            "Epoch 5/10\n",
            "1250/1250 [==============================] - 3s 3ms/step - loss: 0.5301 - accuracy: 0.7585 - val_loss: 0.5340 - val_accuracy: 0.7547\n",
            "Epoch 6/10\n",
            "1250/1250 [==============================] - 4s 3ms/step - loss: 0.5107 - accuracy: 0.7672 - val_loss: 0.5179 - val_accuracy: 0.7631\n",
            "Epoch 7/10\n",
            "1250/1250 [==============================] - 3s 3ms/step - loss: 0.4972 - accuracy: 0.7760 - val_loss: 0.5417 - val_accuracy: 0.7588\n",
            "Epoch 8/10\n",
            "1250/1250 [==============================] - 3s 3ms/step - loss: 0.4858 - accuracy: 0.7806 - val_loss: 0.5039 - val_accuracy: 0.7773\n",
            "Epoch 9/10\n",
            "1250/1250 [==============================] - 3s 2ms/step - loss: 0.4732 - accuracy: 0.7864 - val_loss: 0.4993 - val_accuracy: 0.7758\n",
            "Epoch 10/10\n",
            "1250/1250 [==============================] - 4s 3ms/step - loss: 0.4645 - accuracy: 0.7904 - val_loss: 0.4927 - val_accuracy: 0.7764\n"
          ]
        }
      ]
    },
    {
      "cell_type": "code",
      "source": [
        "# Plot the training and validation loss at each epoch\n",
        "plt.plot(history.history['loss'], label='Training Loss')\n",
        "plt.plot(history.history['val_loss'], label='Validation Loss')\n",
        "plt.title('Training and Validation Loss')\n",
        "plt.xlabel('Epochs')\n",
        "plt.ylabel('Loss')\n",
        "plt.legend()\n",
        "plt.show()"
      ],
      "metadata": {
        "colab": {
          "base_uri": "https://localhost:8080/",
          "height": 472
        },
        "id": "2r3-9-ZWuCoN",
        "outputId": "208a7117-ad9f-4919-fd07-161deb93a687"
      },
      "execution_count": null,
      "outputs": [
        {
          "output_type": "display_data",
          "data": {
            "text/plain": [
              "<Figure size 640x480 with 1 Axes>"
            ],
            "image/png": "[encoded data removed]"
          },
          "metadata": {}
        }
      ]
    },
    {
      "cell_type": "code",
      "source": [
        "# Make predictions on the test data\n",
        "y_pred_prob = model.predict(X_test)"
      ],
      "metadata": {
        "colab": {
          "base_uri": "https://localhost:8080/"
        },
        "id": "pfW-6clIuHAr",
        "outputId": "8edf43ed-86a4-4843-c0ad-85c90cc81b4f"
      },
      "execution_count": null,
      "outputs": [
        {
          "output_type": "stream",
          "name": "stdout",
          "text": [
            "781/781 [==============================] - 1s 1ms/step\n"
          ]
        }
      ]
    },
    {
      "cell_type": "code",
      "source": [
        "# Get the class with highest probability\n",
        "y_pred = np.argmax(y_pred_prob, axis=1)\n"
      ],
      "metadata": {
        "id": "ID78Ye_yueOr"
      },
      "execution_count": null,
      "outputs": []
    },
    {
      "cell_type": "code",
      "source": [
        "for i, prob in enumerate(y_pred_prob[i]):\n",
        "    print(f\"Probability of class {i}: {prob:.4f}\")"
      ],
      "metadata": {
        "colab": {
          "base_uri": "https://localhost:8080/"
        },
        "id": "2aVSnuWG1nw-",
        "outputId": "58fe2465-6601-425b-974a-05ff823f41fe"
      },
      "execution_count": null,
      "outputs": [
        {
          "output_type": "stream",
          "name": "stdout",
          "text": [
            "Probability of class 0: 0.0142\n",
            "Probability of class 1: 0.1042\n",
            "Probability of class 2: 0.1202\n",
            "Probability of class 3: 0.7614\n",
            "Probability of class 4: 0.0000\n",
            "Probability of class 5: 0.0000\n",
            "Probability of class 6: 0.0000\n",
            "Probability of class 7: 0.0000\n",
            "Probability of class 8: 0.0000\n",
            "Probability of class 9: 0.0000\n"
          ]
        }
      ]
    },
    {
      "cell_type": "code",
      "source": [
        "# Create the confusion matrix for test data\n",
        "cm = confusion_matrix(y_test, y_pred)\n",
        "print(cm)"
      ],
      "metadata": {
        "colab": {
          "base_uri": "https://localhost:8080/"
        },
        "id": "SoaEWkpdugAE",
        "outputId": "ee0632fb-0321-4542-d921-db72f3517440"
      },
      "execution_count": null,
      "outputs": [
        {
          "output_type": "stream",
          "name": "stdout",
          "text": [
            "[[ 896  769  319  433   22   10   16    4    0    1]\n",
            " [ 649  767  402  611   63    8   22    4    0    2]\n",
            " [ 462  707  724  602   78    0    6    2    0    0]\n",
            " [  83  172   77 2139   36    0    0    0    0    0]\n",
            " [   0    0    0    0 2485    0    0    0    0    0]\n",
            " [   0    0    0    0    0 2523    0    0    0    0]\n",
            " [   0    0    0    0    0    0 2439    0    0    0]\n",
            " [   0    0    0    0    0    0    0 2508    0    0]\n",
            " [   0    0    0    0    0    0    0    0 2488    0]\n",
            " [   0    0    0    0    0    0    0    0    0 2457]]\n"
          ]
        }
      ]
    },
    {
      "cell_type": "code",
      "source": [
        "# Calculate the F1 score for test data\n",
        "f1 = f1_score(y_test, y_pred, average='macro')\n",
        "print(f1)"
      ],
      "metadata": {
        "colab": {
          "base_uri": "https://localhost:8080/"
        },
        "id": "zuvd29CJuiEe",
        "outputId": "673f192b-9447-4b91-bbf1-4dcfa4216b0c"
      },
      "execution_count": null,
      "outputs": [
        {
          "output_type": "stream",
          "name": "stdout",
          "text": [
            "0.7682551326480809\n"
          ]
        }
      ]
    },
    {
      "cell_type": "markdown",
      "metadata": {
        "id": "Kfw0QCfnzOBF"
      },
      "source": [
        "* Explain how you picked the number of nodes and the\n",
        "number of hidden layers.\n",
        "* Explain your data cleaning and fearture engineering tasks.\n"
      ]
    },
    {
      "cell_type": "markdown",
      "source": [
        "I selected the number of nodes and hidden layers through a trial and error process. Throughout multiple tests I got the best results with the amount that I used. Certain classes had a majority of the values, so in order to combat bias, the data was oversampled."
      ],
      "metadata": {
        "id": "dzdpe-M1hhDO"
      }
    },
    {
      "cell_type": "markdown",
      "metadata": {
        "id": "A2heo9MMzOBF"
      },
      "source": [
        "### Problem 3 - Parkinson's Telemonitoring (30 points)\n",
        "* In class, we focused on artificial nueral networks for classification purposes\n",
        "* Use the data set at https://archive.ics.uci.edu/ml/machine-learning-databases/parkinsons/telemonitoring/\n",
        "   * The goal is to predict the 'motor_UPDRS'\n",
        "   * Remove the 'total_UPDRS' column. The goal of the data set author is to predict both and 'total_UPDRS' but I don't want to have two predicted variables.\n",
        "  * I also don't want to use it as a predictor because 'total_UPDRS' will be too colinear with 'motor_UPDRS'\n",
        "* In this example, we want to use a regression ANN\n",
        "* Use a 80/20 train test split for your model\n",
        "* I acknowledge that you can solve this without an ANN, but please use a regression ANN\n",
        "  * Make sure you look at fields that are numbers but are not truly ordinal. How would you handle them?\n",
        "* This article provides an overview of regression ANN using Tensorflow.\n",
        "  * https://towardsdatascience.com/regression-based-neural-networks-with-tensorflow-v2-0-predicting-average-daily-rates-e20fffa7ac9a\n"
      ]
    },
    {
      "cell_type": "code",
      "source": [
        "dfParkinsons = pd.read_csv(\"https://archive.ics.uci.edu/ml/machine-learning-databases/parkinsons/telemonitoring/parkinsons_updrs.data\")"
      ],
      "metadata": {
        "id": "lY2GXn7ga0IG"
      },
      "execution_count": null,
      "outputs": []
    },
    {
      "cell_type": "code",
      "source": [
        "dfParkinsons.head()"
      ],
      "metadata": {
        "colab": {
          "base_uri": "https://localhost:8080/",
          "height": 299
        },
        "id": "BD0qQGkcbX7V",
        "outputId": "128f1531-30fd-4c05-eb87-bee69c4de3eb"
      },
      "execution_count": null,
      "outputs": [
        {
          "output_type": "execute_result",
          "data": {
            "text/plain": [
              "   subject#  age  sex  test_time  motor_UPDRS  total_UPDRS  Jitter(%)  \\\n",
              "0         1   72    0     5.6431       28.199       34.398    0.00662   \n",
              "1         1   72    0    12.6660       28.447       34.894    0.00300   \n",
              "2         1   72    0    19.6810       28.695       35.389    0.00481   \n",
              "3         1   72    0    25.6470       28.905       35.810    0.00528   \n",
              "4         1   72    0    33.6420       29.187       36.375    0.00335   \n",
              "\n",
              "   Jitter(Abs)  Jitter:RAP  Jitter:PPQ5  ...  Shimmer(dB)  Shimmer:APQ3  \\\n",
              "0     0.000034     0.00401      0.00317  ...        0.230       0.01438   \n",
              "1     0.000017     0.00132      0.00150  ...        0.179       0.00994   \n",
              "2     0.000025     0.00205      0.00208  ...        0.181       0.00734   \n",
              "3     0.000027     0.00191      0.00264  ...        0.327       0.01106   \n",
              "4     0.000020     0.00093      0.00130  ...        0.176       0.00679   \n",
              "\n",
              "   Shimmer:APQ5  Shimmer:APQ11  Shimmer:DDA       NHR     HNR     RPDE  \\\n",
              "0       0.01309        0.01662      0.04314  0.014290  21.640  0.41888   \n",
              "1       0.01072        0.01689      0.02982  0.011112  27.183  0.43493   \n",
              "2       0.00844        0.01458      0.02202  0.020220  23.047  0.46222   \n",
              "3       0.01265        0.01963      0.03317  0.027837  24.445  0.48730   \n",
              "4       0.00929        0.01819      0.02036  0.011625  26.126  0.47188   \n",
              "\n",
              "       DFA      PPE  \n",
              "0  0.54842  0.16006  \n",
              "1  0.56477  0.10810  \n",
              "2  0.54405  0.21014  \n",
              "3  0.57794  0.33277  \n",
              "4  0.56122  0.19361  \n",
              "\n",
              "[5 rows x 22 columns]"
            ],
            "text/html": [
              "\n",
              "  <div id=\"df-d5647052-dcea-4e61-b48e-cd4030d42ba6\">\n",
              "    <div class=\"colab-df-container\">\n",
              "      <div>\n",
              "<style scoped>\n",
              "    .dataframe tbody tr th:only-of-type {\n",
              "        vertical-align: middle;\n",
              "    }\n",
              "\n",
              "    .dataframe tbody tr th {\n",
              "        vertical-align: top;\n",
              "    }\n",
              "\n",
              "    .dataframe thead th {\n",
              "        text-align: right;\n",
              "    }\n",
              "</style>\n",
              "<table border=\"1\" class=\"dataframe\">\n",
              "  <thead>\n",
              "    <tr style=\"text-align: right;\">\n",
              "      <th></th>\n",
              "      <th>subject#</th>\n",
              "      <th>age</th>\n",
              "      <th>sex</th>\n",
              "      <th>test_time</th>\n",
              "      <th>motor_UPDRS</th>\n",
              "      <th>total_UPDRS</th>\n",
              "      <th>Jitter(%)</th>\n",
              "      <th>Jitter(Abs)</th>\n",
              "      <th>Jitter:RAP</th>\n",
              "      <th>Jitter:PPQ5</th>\n",
              "      <th>...</th>\n",
              "      <th>Shimmer(dB)</th>\n",
              "      <th>Shimmer:APQ3</th>\n",
              "      <th>Shimmer:APQ5</th>\n",
              "      <th>Shimmer:APQ11</th>\n",
              "      <th>Shimmer:DDA</th>\n",
              "      <th>NHR</th>\n",
              "      <th>HNR</th>\n",
              "      <th>RPDE</th>\n",
              "      <th>DFA</th>\n",
              "      <th>PPE</th>\n",
              "    </tr>\n",
              "  </thead>\n",
              "  <tbody>\n",
              "    <tr>\n",
              "      <th>0</th>\n",
              "      <td>1</td>\n",
              "      <td>72</td>\n",
              "      <td>0</td>\n",
              "      <td>5.6431</td>\n",
              "      <td>28.199</td>\n",
              "      <td>34.398</td>\n",
              "      <td>0.00662</td>\n",
              "      <td>0.000034</td>\n",
              "      <td>0.00401</td>\n",
              "      <td>0.00317</td>\n",
              "      <td>...</td>\n",
              "      <td>0.230</td>\n",
              "      <td>0.01438</td>\n",
              "      <td>0.01309</td>\n",
              "      <td>0.01662</td>\n",
              "      <td>0.04314</td>\n",
              "      <td>0.014290</td>\n",
              "      <td>21.640</td>\n",
              "      <td>0.41888</td>\n",
              "      <td>0.54842</td>\n",
              "      <td>0.16006</td>\n",
              "    </tr>\n",
              "    <tr>\n",
              "      <th>1</th>\n",
              "      <td>1</td>\n",
              "      <td>72</td>\n",
              "      <td>0</td>\n",
              "      <td>12.6660</td>\n",
              "      <td>28.447</td>\n",
              "      <td>34.894</td>\n",
              "      <td>0.00300</td>\n",
              "      <td>0.000017</td>\n",
              "      <td>0.00132</td>\n",
              "      <td>0.00150</td>\n",
              "      <td>...</td>\n",
              "      <td>0.179</td>\n",
              "      <td>0.00994</td>\n",
              "      <td>0.01072</td>\n",
              "      <td>0.01689</td>\n",
              "      <td>0.02982</td>\n",
              "      <td>0.011112</td>\n",
              "      <td>27.183</td>\n",
              "      <td>0.43493</td>\n",
              "      <td>0.56477</td>\n",
              "      <td>0.10810</td>\n",
              "    </tr>\n",
              "    <tr>\n",
              "      <th>2</th>\n",
              "      <td>1</td>\n",
              "      <td>72</td>\n",
              "      <td>0</td>\n",
              "      <td>19.6810</td>\n",
              "      <td>28.695</td>\n",
              "      <td>35.389</td>\n",
              "      <td>0.00481</td>\n",
              "      <td>0.000025</td>\n",
              "      <td>0.00205</td>\n",
              "      <td>0.00208</td>\n",
              "      <td>...</td>\n",
              "      <td>0.181</td>\n",
              "      <td>0.00734</td>\n",
              "      <td>0.00844</td>\n",
              "      <td>0.01458</td>\n",
              "      <td>0.02202</td>\n",
              "      <td>0.020220</td>\n",
              "      <td>23.047</td>\n",
              "      <td>0.46222</td>\n",
              "      <td>0.54405</td>\n",
              "      <td>0.21014</td>\n",
              "    </tr>\n",
              "    <tr>\n",
              "      <th>3</th>\n",
              "      <td>1</td>\n",
              "      <td>72</td>\n",
              "      <td>0</td>\n",
              "      <td>25.6470</td>\n",
              "      <td>28.905</td>\n",
              "      <td>35.810</td>\n",
              "      <td>0.00528</td>\n",
              "      <td>0.000027</td>\n",
              "      <td>0.00191</td>\n",
              "      <td>0.00264</td>\n",
              "      <td>...</td>\n",
              "      <td>0.327</td>\n",
              "      <td>0.01106</td>\n",
              "      <td>0.01265</td>\n",
              "      <td>0.01963</td>\n",
              "      <td>0.03317</td>\n",
              "      <td>0.027837</td>\n",
              "      <td>24.445</td>\n",
              "      <td>0.48730</td>\n",
              "      <td>0.57794</td>\n",
              "      <td>0.33277</td>\n",
              "    </tr>\n",
              "    <tr>\n",
              "      <th>4</th>\n",
              "      <td>1</td>\n",
              "      <td>72</td>\n",
              "      <td>0</td>\n",
              "      <td>33.6420</td>\n",
              "      <td>29.187</td>\n",
              "      <td>36.375</td>\n",
              "      <td>0.00335</td>\n",
              "      <td>0.000020</td>\n",
              "      <td>0.00093</td>\n",
              "      <td>0.00130</td>\n",
              "      <td>...</td>\n",
              "      <td>0.176</td>\n",
              "      <td>0.00679</td>\n",
              "      <td>0.00929</td>\n",
              "      <td>0.01819</td>\n",
              "      <td>0.02036</td>\n",
              "      <td>0.011625</td>\n",
              "      <td>26.126</td>\n",
              "      <td>0.47188</td>\n",
              "      <td>0.56122</td>\n",
              "      <td>0.19361</td>\n",
              "    </tr>\n",
              "  </tbody>\n",
              "</table>\n",
              "<p>5 rows × 22 columns</p>\n",
              "</div>\n",
              "      <button class=\"colab-df-convert\" onclick=\"convertToInteractive('df-d5647052-dcea-4e61-b48e-cd4030d42ba6')\"\n",
              "              title=\"Convert this dataframe to an interactive table.\"\n",
              "              style=\"display:none;\">\n",
              "        \n",
              "  <svg xmlns=\"http://www.w3.org/2000/svg\" height=\"24px\"viewBox=\"0 0 24 24\"\n",
              "       width=\"24px\">\n",
              "    <path d=\"M0 0h24v24H0V0z\" fill=\"none\"/>\n",
              "    <path d=\"M18.56 5.44l.94 2.06.94-2.06 2.06-.94-2.06-.94-.94-2.06-.94 2.06-2.06.94zm-11 1L8.5 8.5l.94-2.06 2.06-.94-2.06-.94L8.5 2.5l-.94 2.06-2.06.94zm10 10l.94 2.06.94-2.06 2.06-.94-2.06-.94-.94-2.06-.94 2.06-2.06.94z\"/><path d=\"M17.41 7.96l-1.37-1.37c-.4-.4-.92-.59-1.43-.59-.52 0-1.04.2-1.43.59L10.3 9.45l-7.72 7.72c-.78.78-.78 2.05 0 2.83L4 21.41c.39.39.9.59 1.41.59.51 0 1.02-.2 1.41-.59l7.78-7.78 2.81-2.81c.8-.78.8-2.07 0-2.86zM5.41 20L4 18.59l7.72-7.72 1.47 1.35L5.41 20z\"/>\n",
              "  </svg>\n",
              "      </button>\n",
              "      \n",
              "  <style>\n",
              "    .colab-df-container {\n",
              "      display:flex;\n",
              "      flex-wrap:wrap;\n",
              "      gap: 12px;\n",
              "    }\n",
              "\n",
              "    .colab-df-convert {\n",
              "      background-color: #E8F0FE;\n",
              "      border: none;\n",
              "      border-radius: 50%;\n",
              "      cursor: pointer;\n",
              "      display: none;\n",
              "      fill: #1967D2;\n",
              "      height: 32px;\n",
              "      padding: 0 0 0 0;\n",
              "      width: 32px;\n",
              "    }\n",
              "\n",
              "    .colab-df-convert:hover {\n",
              "      background-color: #E2EBFA;\n",
              "      box-shadow: 0px 1px 2px rgba(60, 64, 67, 0.3), 0px 1px 3px 1px rgba(60, 64, 67, 0.15);\n",
              "      fill: #174EA6;\n",
              "    }\n",
              "\n",
              "    [theme=dark] .colab-df-convert {\n",
              "      background-color: #3B4455;\n",
              "      fill: #D2E3FC;\n",
              "    }\n",
              "\n",
              "    [theme=dark] .colab-df-convert:hover {\n",
              "      background-color: #434B5C;\n",
              "      box-shadow: 0px 1px 3px 1px rgba(0, 0, 0, 0.15);\n",
              "      filter: drop-shadow(0px 1px 2px rgba(0, 0, 0, 0.3));\n",
              "      fill: #FFFFFF;\n",
              "    }\n",
              "  </style>\n",
              "\n",
              "      <script>\n",
              "        const buttonEl =\n",
              "          document.querySelector('#df-d5647052-dcea-4e61-b48e-cd4030d42ba6 button.colab-df-convert');\n",
              "        buttonEl.style.display =\n",
              "          google.colab.kernel.accessAllowed ? 'block' : 'none';\n",
              "\n",
              "        async function convertToInteractive(key) {\n",
              "          const element = document.querySelector('#df-d5647052-dcea-4e61-b48e-cd4030d42ba6');\n",
              "          const dataTable =\n",
              "            await google.colab.kernel.invokeFunction('convertToInteractive',\n",
              "                                                     [key], {});\n",
              "          if (!dataTable) return;\n",
              "\n",
              "          const docLinkHtml = 'Like what you see? Visit the ' +\n",
              "            '<a target=\"_blank\" href=https://colab.research.google.com/notebooks/data_table.ipynb>data table notebook</a>'\n",
              "            + ' to learn more about interactive tables.';\n",
              "          element.innerHTML = '';\n",
              "          dataTable['output_type'] = 'display_data';\n",
              "          await google.colab.output.renderOutput(dataTable, element);\n",
              "          const docLink = document.createElement('div');\n",
              "          docLink.innerHTML = docLinkHtml;\n",
              "          element.appendChild(docLink);\n",
              "        }\n",
              "      </script>\n",
              "    </div>\n",
              "  </div>\n",
              "  "
            ]
          },
          "metadata": {},
          "execution_count": 3
        }
      ]
    },
    {
      "cell_type": "code",
      "source": [
        "dfParkinsons.describe()"
      ],
      "metadata": {
        "colab": {
          "base_uri": "https://localhost:8080/",
          "height": 393
        },
        "id": "bTWYICtdblEa",
        "outputId": "e5c985df-d2e5-4102-ff96-917c9adc18f0"
      },
      "execution_count": null,
      "outputs": [
        {
          "output_type": "execute_result",
          "data": {
            "text/plain": [
              "          subject#          age          sex    test_time  motor_UPDRS  \\\n",
              "count  5875.000000  5875.000000  5875.000000  5875.000000  5875.000000   \n",
              "mean     21.494128    64.804936     0.317787    92.863722    21.296229   \n",
              "std      12.372279     8.821524     0.465656    53.445602     8.129282   \n",
              "min       1.000000    36.000000     0.000000    -4.262500     5.037700   \n",
              "25%      10.000000    58.000000     0.000000    46.847500    15.000000   \n",
              "50%      22.000000    65.000000     0.000000    91.523000    20.871000   \n",
              "75%      33.000000    72.000000     1.000000   138.445000    27.596500   \n",
              "max      42.000000    85.000000     1.000000   215.490000    39.511000   \n",
              "\n",
              "       total_UPDRS    Jitter(%)  Jitter(Abs)   Jitter:RAP  Jitter:PPQ5  ...  \\\n",
              "count  5875.000000  5875.000000  5875.000000  5875.000000  5875.000000  ...   \n",
              "mean     29.018942     0.006154     0.000044     0.002987     0.003277  ...   \n",
              "std      10.700283     0.005624     0.000036     0.003124     0.003732  ...   \n",
              "min       7.000000     0.000830     0.000002     0.000330     0.000430  ...   \n",
              "25%      21.371000     0.003580     0.000022     0.001580     0.001820  ...   \n",
              "50%      27.576000     0.004900     0.000035     0.002250     0.002490  ...   \n",
              "75%      36.399000     0.006800     0.000053     0.003290     0.003460  ...   \n",
              "max      54.992000     0.099990     0.000446     0.057540     0.069560  ...   \n",
              "\n",
              "       Shimmer(dB)  Shimmer:APQ3  Shimmer:APQ5  Shimmer:APQ11  Shimmer:DDA  \\\n",
              "count  5875.000000   5875.000000   5875.000000    5875.000000  5875.000000   \n",
              "mean      0.310960      0.017156      0.020144       0.027481     0.051467   \n",
              "std       0.230254      0.013237      0.016664       0.019986     0.039711   \n",
              "min       0.026000      0.001610      0.001940       0.002490     0.004840   \n",
              "25%       0.175000      0.009280      0.010790       0.015665     0.027830   \n",
              "50%       0.253000      0.013700      0.015940       0.022710     0.041110   \n",
              "75%       0.365000      0.020575      0.023755       0.032715     0.061735   \n",
              "max       2.107000      0.162670      0.167020       0.275460     0.488020   \n",
              "\n",
              "               NHR          HNR         RPDE          DFA          PPE  \n",
              "count  5875.000000  5875.000000  5875.000000  5875.000000  5875.000000  \n",
              "mean      0.032120    21.679495     0.541473     0.653240     0.219589  \n",
              "std       0.059692     4.291096     0.100986     0.070902     0.091498  \n",
              "min       0.000286     1.659000     0.151020     0.514040     0.021983  \n",
              "25%       0.010955    19.406000     0.469785     0.596180     0.156340  \n",
              "50%       0.018448    21.920000     0.542250     0.643600     0.205500  \n",
              "75%       0.031463    24.444000     0.614045     0.711335     0.264490  \n",
              "max       0.748260    37.875000     0.966080     0.865600     0.731730  \n",
              "\n",
              "[8 rows x 22 columns]"
            ],
            "text/html": [
              "\n",
              "  <div id=\"df-821f54d0-345d-4cad-ad78-dda619aa43ae\">\n",
              "    <div class=\"colab-df-container\">\n",
              "      <div>\n",
              "<style scoped>\n",
              "    .dataframe tbody tr th:only-of-type {\n",
              "        vertical-align: middle;\n",
              "    }\n",
              "\n",
              "    .dataframe tbody tr th {\n",
              "        vertical-align: top;\n",
              "    }\n",
              "\n",
              "    .dataframe thead th {\n",
              "        text-align: right;\n",
              "    }\n",
              "</style>\n",
              "<table border=\"1\" class=\"dataframe\">\n",
              "  <thead>\n",
              "    <tr style=\"text-align: right;\">\n",
              "      <th></th>\n",
              "      <th>subject#</th>\n",
              "      <th>age</th>\n",
              "      <th>sex</th>\n",
              "      <th>test_time</th>\n",
              "      <th>motor_UPDRS</th>\n",
              "      <th>total_UPDRS</th>\n",
              "      <th>Jitter(%)</th>\n",
              "      <th>Jitter(Abs)</th>\n",
              "      <th>Jitter:RAP</th>\n",
              "      <th>Jitter:PPQ5</th>\n",
              "      <th>...</th>\n",
              "      <th>Shimmer(dB)</th>\n",
              "      <th>Shimmer:APQ3</th>\n",
              "      <th>Shimmer:APQ5</th>\n",
              "      <th>Shimmer:APQ11</th>\n",
              "      <th>Shimmer:DDA</th>\n",
              "      <th>NHR</th>\n",
              "      <th>HNR</th>\n",
              "      <th>RPDE</th>\n",
              "      <th>DFA</th>\n",
              "      <th>PPE</th>\n",
              "    </tr>\n",
              "  </thead>\n",
              "  <tbody>\n",
              "    <tr>\n",
              "      <th>count</th>\n",
              "      <td>5875.000000</td>\n",
              "      <td>5875.000000</td>\n",
              "      <td>5875.000000</td>\n",
              "      <td>5875.000000</td>\n",
              "      <td>5875.000000</td>\n",
              "      <td>5875.000000</td>\n",
              "      <td>5875.000000</td>\n",
              "      <td>5875.000000</td>\n",
              "      <td>5875.000000</td>\n",
              "      <td>5875.000000</td>\n",
              "      <td>...</td>\n",
              "      <td>5875.000000</td>\n",
              "      <td>5875.000000</td>\n",
              "      <td>5875.000000</td>\n",
              "      <td>5875.000000</td>\n",
              "      <td>5875.000000</td>\n",
              "      <td>5875.000000</td>\n",
              "      <td>5875.000000</td>\n",
              "      <td>5875.000000</td>\n",
              "      <td>5875.000000</td>\n",
              "      <td>5875.000000</td>\n",
              "    </tr>\n",
              "    <tr>\n",
              "      <th>mean</th>\n",
              "      <td>21.494128</td>\n",
              "      <td>64.804936</td>\n",
              "      <td>0.317787</td>\n",
              "      <td>92.863722</td>\n",
              "      <td>21.296229</td>\n",
              "      <td>29.018942</td>\n",
              "      <td>0.006154</td>\n",
              "      <td>0.000044</td>\n",
              "      <td>0.002987</td>\n",
              "      <td>0.003277</td>\n",
              "      <td>...</td>\n",
              "      <td>0.310960</td>\n",
              "      <td>0.017156</td>\n",
              "      <td>0.020144</td>\n",
              "      <td>0.027481</td>\n",
              "      <td>0.051467</td>\n",
              "      <td>0.032120</td>\n",
              "      <td>21.679495</td>\n",
              "      <td>0.541473</td>\n",
              "      <td>0.653240</td>\n",
              "      <td>0.219589</td>\n",
              "    </tr>\n",
              "    <tr>\n",
              "      <th>std</th>\n",
              "      <td>12.372279</td>\n",
              "      <td>8.821524</td>\n",
              "      <td>0.465656</td>\n",
              "      <td>53.445602</td>\n",
              "      <td>8.129282</td>\n",
              "      <td>10.700283</td>\n",
              "      <td>0.005624</td>\n",
              "      <td>0.000036</td>\n",
              "      <td>0.003124</td>\n",
              "      <td>0.003732</td>\n",
              "      <td>...</td>\n",
              "      <td>0.230254</td>\n",
              "      <td>0.013237</td>\n",
              "      <td>0.016664</td>\n",
              "      <td>0.019986</td>\n",
              "      <td>0.039711</td>\n",
              "      <td>0.059692</td>\n",
              "      <td>4.291096</td>\n",
              "      <td>0.100986</td>\n",
              "      <td>0.070902</td>\n",
              "      <td>0.091498</td>\n",
              "    </tr>\n",
              "    <tr>\n",
              "      <th>min</th>\n",
              "      <td>1.000000</td>\n",
              "      <td>36.000000</td>\n",
              "      <td>0.000000</td>\n",
              "      <td>-4.262500</td>\n",
              "      <td>5.037700</td>\n",
              "      <td>7.000000</td>\n",
              "      <td>0.000830</td>\n",
              "      <td>0.000002</td>\n",
              "      <td>0.000330</td>\n",
              "      <td>0.000430</td>\n",
              "      <td>...</td>\n",
              "      <td>0.026000</td>\n",
              "      <td>0.001610</td>\n",
              "      <td>0.001940</td>\n",
              "      <td>0.002490</td>\n",
              "      <td>0.004840</td>\n",
              "      <td>0.000286</td>\n",
              "      <td>1.659000</td>\n",
              "      <td>0.151020</td>\n",
              "      <td>0.514040</td>\n",
              "      <td>0.021983</td>\n",
              "    </tr>\n",
              "    <tr>\n",
              "      <th>25%</th>\n",
              "      <td>10.000000</td>\n",
              "      <td>58.000000</td>\n",
              "      <td>0.000000</td>\n",
              "      <td>46.847500</td>\n",
              "      <td>15.000000</td>\n",
              "      <td>21.371000</td>\n",
              "      <td>0.003580</td>\n",
              "      <td>0.000022</td>\n",
              "      <td>0.001580</td>\n",
              "      <td>0.001820</td>\n",
              "      <td>...</td>\n",
              "      <td>0.175000</td>\n",
              "      <td>0.009280</td>\n",
              "      <td>0.010790</td>\n",
              "      <td>0.015665</td>\n",
              "      <td>0.027830</td>\n",
              "      <td>0.010955</td>\n",
              "      <td>19.406000</td>\n",
              "      <td>0.469785</td>\n",
              "      <td>0.596180</td>\n",
              "      <td>0.156340</td>\n",
              "    </tr>\n",
              "    <tr>\n",
              "      <th>50%</th>\n",
              "      <td>22.000000</td>\n",
              "      <td>65.000000</td>\n",
              "      <td>0.000000</td>\n",
              "      <td>91.523000</td>\n",
              "      <td>20.871000</td>\n",
              "      <td>27.576000</td>\n",
              "      <td>0.004900</td>\n",
              "      <td>0.000035</td>\n",
              "      <td>0.002250</td>\n",
              "      <td>0.002490</td>\n",
              "      <td>...</td>\n",
              "      <td>0.253000</td>\n",
              "      <td>0.013700</td>\n",
              "      <td>0.015940</td>\n",
              "      <td>0.022710</td>\n",
              "      <td>0.041110</td>\n",
              "      <td>0.018448</td>\n",
              "      <td>21.920000</td>\n",
              "      <td>0.542250</td>\n",
              "      <td>0.643600</td>\n",
              "      <td>0.205500</td>\n",
              "    </tr>\n",
              "    <tr>\n",
              "      <th>75%</th>\n",
              "      <td>33.000000</td>\n",
              "      <td>72.000000</td>\n",
              "      <td>1.000000</td>\n",
              "      <td>138.445000</td>\n",
              "      <td>27.596500</td>\n",
              "      <td>36.399000</td>\n",
              "      <td>0.006800</td>\n",
              "      <td>0.000053</td>\n",
              "      <td>0.003290</td>\n",
              "      <td>0.003460</td>\n",
              "      <td>...</td>\n",
              "      <td>0.365000</td>\n",
              "      <td>0.020575</td>\n",
              "      <td>0.023755</td>\n",
              "      <td>0.032715</td>\n",
              "      <td>0.061735</td>\n",
              "      <td>0.031463</td>\n",
              "      <td>24.444000</td>\n",
              "      <td>0.614045</td>\n",
              "      <td>0.711335</td>\n",
              "      <td>0.264490</td>\n",
              "    </tr>\n",
              "    <tr>\n",
              "      <th>max</th>\n",
              "      <td>42.000000</td>\n",
              "      <td>85.000000</td>\n",
              "      <td>1.000000</td>\n",
              "      <td>215.490000</td>\n",
              "      <td>39.511000</td>\n",
              "      <td>54.992000</td>\n",
              "      <td>0.099990</td>\n",
              "      <td>0.000446</td>\n",
              "      <td>0.057540</td>\n",
              "      <td>0.069560</td>\n",
              "      <td>...</td>\n",
              "      <td>2.107000</td>\n",
              "      <td>0.162670</td>\n",
              "      <td>0.167020</td>\n",
              "      <td>0.275460</td>\n",
              "      <td>0.488020</td>\n",
              "      <td>0.748260</td>\n",
              "      <td>37.875000</td>\n",
              "      <td>0.966080</td>\n",
              "      <td>0.865600</td>\n",
              "      <td>0.731730</td>\n",
              "    </tr>\n",
              "  </tbody>\n",
              "</table>\n",
              "<p>8 rows × 22 columns</p>\n",
              "</div>\n",
              "      <button class=\"colab-df-convert\" onclick=\"convertToInteractive('df-821f54d0-345d-4cad-ad78-dda619aa43ae')\"\n",
              "              title=\"Convert this dataframe to an interactive table.\"\n",
              "              style=\"display:none;\">\n",
              "        \n",
              "  <svg xmlns=\"http://www.w3.org/2000/svg\" height=\"24px\"viewBox=\"0 0 24 24\"\n",
              "       width=\"24px\">\n",
              "    <path d=\"M0 0h24v24H0V0z\" fill=\"none\"/>\n",
              "    <path d=\"M18.56 5.44l.94 2.06.94-2.06 2.06-.94-2.06-.94-.94-2.06-.94 2.06-2.06.94zm-11 1L8.5 8.5l.94-2.06 2.06-.94-2.06-.94L8.5 2.5l-.94 2.06-2.06.94zm10 10l.94 2.06.94-2.06 2.06-.94-2.06-.94-.94-2.06-.94 2.06-2.06.94z\"/><path d=\"M17.41 7.96l-1.37-1.37c-.4-.4-.92-.59-1.43-.59-.52 0-1.04.2-1.43.59L10.3 9.45l-7.72 7.72c-.78.78-.78 2.05 0 2.83L4 21.41c.39.39.9.59 1.41.59.51 0 1.02-.2 1.41-.59l7.78-7.78 2.81-2.81c.8-.78.8-2.07 0-2.86zM5.41 20L4 18.59l7.72-7.72 1.47 1.35L5.41 20z\"/>\n",
              "  </svg>\n",
              "      </button>\n",
              "      \n",
              "  <style>\n",
              "    .colab-df-container {\n",
              "      display:flex;\n",
              "      flex-wrap:wrap;\n",
              "      gap: 12px;\n",
              "    }\n",
              "\n",
              "    .colab-df-convert {\n",
              "      background-color: #E8F0FE;\n",
              "      border: none;\n",
              "      border-radius: 50%;\n",
              "      cursor: pointer;\n",
              "      display: none;\n",
              "      fill: #1967D2;\n",
              "      height: 32px;\n",
              "      padding: 0 0 0 0;\n",
              "      width: 32px;\n",
              "    }\n",
              "\n",
              "    .colab-df-convert:hover {\n",
              "      background-color: #E2EBFA;\n",
              "      box-shadow: 0px 1px 2px rgba(60, 64, 67, 0.3), 0px 1px 3px 1px rgba(60, 64, 67, 0.15);\n",
              "      fill: #174EA6;\n",
              "    }\n",
              "\n",
              "    [theme=dark] .colab-df-convert {\n",
              "      background-color: #3B4455;\n",
              "      fill: #D2E3FC;\n",
              "    }\n",
              "\n",
              "    [theme=dark] .colab-df-convert:hover {\n",
              "      background-color: #434B5C;\n",
              "      box-shadow: 0px 1px 3px 1px rgba(0, 0, 0, 0.15);\n",
              "      filter: drop-shadow(0px 1px 2px rgba(0, 0, 0, 0.3));\n",
              "      fill: #FFFFFF;\n",
              "    }\n",
              "  </style>\n",
              "\n",
              "      <script>\n",
              "        const buttonEl =\n",
              "          document.querySelector('#df-821f54d0-345d-4cad-ad78-dda619aa43ae button.colab-df-convert');\n",
              "        buttonEl.style.display =\n",
              "          google.colab.kernel.accessAllowed ? 'block' : 'none';\n",
              "\n",
              "        async function convertToInteractive(key) {\n",
              "          const element = document.querySelector('#df-821f54d0-345d-4cad-ad78-dda619aa43ae');\n",
              "          const dataTable =\n",
              "            await google.colab.kernel.invokeFunction('convertToInteractive',\n",
              "                                                     [key], {});\n",
              "          if (!dataTable) return;\n",
              "\n",
              "          const docLinkHtml = 'Like what you see? Visit the ' +\n",
              "            '<a target=\"_blank\" href=https://colab.research.google.com/notebooks/data_table.ipynb>data table notebook</a>'\n",
              "            + ' to learn more about interactive tables.';\n",
              "          element.innerHTML = '';\n",
              "          dataTable['output_type'] = 'display_data';\n",
              "          await google.colab.output.renderOutput(dataTable, element);\n",
              "          const docLink = document.createElement('div');\n",
              "          docLink.innerHTML = docLinkHtml;\n",
              "          element.appendChild(docLink);\n",
              "        }\n",
              "      </script>\n",
              "    </div>\n",
              "  </div>\n",
              "  "
            ]
          },
          "metadata": {},
          "execution_count": 4
        }
      ]
    },
    {
      "cell_type": "code",
      "source": [
        "dfParkinsons.drop(['total_UPDRS'],axis =1,inplace=True)"
      ],
      "metadata": {
        "id": "035uImJ0hnGi"
      },
      "execution_count": null,
      "outputs": []
    },
    {
      "cell_type": "code",
      "execution_count": null,
      "metadata": {
        "id": "fzzuPSPkzOBF"
      },
      "outputs": [],
      "source": [
        "### You code here"
      ]
    },
    {
      "cell_type": "code",
      "source": [
        "import pandas as pd\n",
        "import numpy as np\n",
        "import tensorflow as tf\n",
        "from sklearn.model_selection import train_test_split\n",
        "from sklearn.preprocessing import StandardScaler\n",
        "import matplotlib.pyplot as plt"
      ],
      "metadata": {
        "id": "eYMZmIKsZFB4"
      },
      "execution_count": null,
      "outputs": []
    },
    {
      "cell_type": "code",
      "source": [
        "# Split into features and target\n",
        "X = dfParkinsons.drop('motor_UPDRS', axis=1).values\n",
        "y = dfParkinsons['motor_UPDRS'].values\n"
      ],
      "metadata": {
        "id": "ijoT0R6GYSQ3"
      },
      "execution_count": null,
      "outputs": []
    },
    {
      "cell_type": "code",
      "source": [
        "# Split into train and test sets\n",
        "X_train, X_test, y_train, y_test = train_test_split(X, y, test_size=0.2, random_state=42)\n"
      ],
      "metadata": {
        "id": "K8mwdHmQZLB0"
      },
      "execution_count": null,
      "outputs": []
    },
    {
      "cell_type": "code",
      "source": [
        "# Split into train and test sets\n",
        "X_train, X_test, y_train, y_test = train_test_split(X, y, test_size=0.2, random_state=42)\n"
      ],
      "metadata": {
        "id": "TXl8RbSDYT4a"
      },
      "execution_count": null,
      "outputs": []
    },
    {
      "cell_type": "code",
      "source": [
        "# Scale the data\n",
        "scaler = StandardScaler()\n",
        "X_train = scaler.fit_transform(X_train)\n",
        "X_test = scaler.transform(X_test)"
      ],
      "metadata": {
        "id": "Fc9R0qrPYVZO"
      },
      "execution_count": null,
      "outputs": []
    },
    {
      "cell_type": "code",
      "source": [
        "# Build the model\n",
        "model = tf.keras.Sequential([\n",
        "    tf.keras.layers.Dense(128, activation='relu', input_shape=(X_train.shape[1],)),\n",
        "    tf.keras.layers.Dense(64, activation='relu'),\n",
        "    tf.keras.layers.Dense(1)\n",
        "])\n"
      ],
      "metadata": {
        "id": "XjAmEyNtYg85"
      },
      "execution_count": null,
      "outputs": []
    },
    {
      "cell_type": "code",
      "source": [
        "# Compile the model\n",
        "model.compile(optimizer='adam', loss='mse')"
      ],
      "metadata": {
        "id": "rCKlktIiZWyQ"
      },
      "execution_count": null,
      "outputs": []
    },
    {
      "cell_type": "code",
      "source": [
        "# Train the model\n",
        "history = model.fit(X_train, y_train, validation_data=(X_test, y_test), epochs=50, batch_size=32, verbose=0)\n"
      ],
      "metadata": {
        "id": "8H2_JjJXZY5T"
      },
      "execution_count": null,
      "outputs": []
    },
    {
      "cell_type": "markdown",
      "source": [
        "Plot the history of the training validation data loss."
      ],
      "metadata": {
        "id": "Qp1K5mgfl2YK"
      }
    },
    {
      "cell_type": "code",
      "source": [
        "# Plot the training/validation loss history\n",
        "plt.plot(history.history['loss'], label='train')\n",
        "plt.plot(history.history['val_loss'], label='validation')\n",
        "plt.legend()\n",
        "plt.show()"
      ],
      "metadata": {
        "id": "hIyRoWMal2sM",
        "colab": {
          "base_uri": "https://localhost:8080/",
          "height": 430
        },
        "outputId": "e7f58550-f1ad-4986-96ee-6a95a28c4179"
      },
      "execution_count": null,
      "outputs": [
        {
          "output_type": "display_data",
          "data": {
            "text/plain": [
              "<Figure size 640x480 with 1 Axes>"
            ],
            "image/png": "[encoded data removed]"
          },
          "metadata": {}
        }
      ]
    },
    {
      "cell_type": "markdown",
      "source": [
        "Based on the history, how many epochs do you think you should have used while training the model?"
      ],
      "metadata": {
        "id": "FN4ycmRamHCm"
      }
    },
    {
      "cell_type": "markdown",
      "source": [
        "I think that 50 is the correct amount of epochs to use for this. After about 50 epochs the validation loss stops improving."
      ],
      "metadata": {
        "id": "bQGSC2aCmJd4"
      }
    },
    {
      "cell_type": "markdown",
      "source": [
        "For regression problems, we can measure residuals to guage accurancy. Plot a residuals graph and explain how you interpret it."
      ],
      "metadata": {
        "id": "oowH4UUC2xh-"
      }
    },
    {
      "cell_type": "code",
      "source": [
        "# Predict the target variable for the test set\n",
        "y_pred = model.predict(X_test).flatten()\n",
        "\n",
        "# Calculate the residuals\n",
        "residuals = y_test - y_pred\n",
        "\n",
        "# Plot the residuals\n",
        "plt.scatter(y_test, residuals)\n",
        "plt.axhline(y=0, color='r', linestyle='-')\n",
        "plt.xlabel('Actual Values')\n",
        "plt.ylabel('Residuals')\n",
        "plt.show()\n"
      ],
      "metadata": {
        "id": "sA3GYQeg2wHJ",
        "colab": {
          "base_uri": "https://localhost:8080/",
          "height": 466
        },
        "outputId": "5072fff3-29fc-4c81-dd50-7df6633e6d74"
      },
      "execution_count": null,
      "outputs": [
        {
          "output_type": "stream",
          "name": "stdout",
          "text": [
            "37/37 [==============================] - 0s 2ms/step\n"
          ]
        },
        {
          "output_type": "display_data",
          "data": {
            "text/plain": [
              "<Figure size 640x480 with 1 Axes>"
            ],
            "image/png": "[encoded data removed]"
          },
          "metadata": {}
        }
      ]
    },
    {
      "cell_type": "markdown",
      "metadata": {
        "id": "QQLPjjXtzOBG"
      },
      "source": [
        "Intepretation of residual plot:\n"
      ]
    },
    {
      "cell_type": "markdown",
      "source": [
        "Mos tof the residuals are scattered near 0, this means the unbiased predictions are being made. The only issues persist around larger values, where it may over predict or near 10 and 20 where it under predicts."
      ],
      "metadata": {
        "id": "OAcSY0AM3Msi"
      }
    }
  ],
  "metadata": {
    "celltoolbar": "Edit Metadata",
    "kernelspec": {
      "display_name": "Python 3 (ipykernel)",
      "language": "python",
      "name": "python3"
    },
    "language_info": {
      "codemirror_mode": {
        "name": "ipython",
        "version": 3
      },
      "file_extension": ".py",
      "mimetype": "text/x-python",
      "name": "python",
      "nbconvert_exporter": "python",
      "pygments_lexer": "ipython3",
      "version": "3.7.3"
    },
    "colab": {
      "provenance": [],
      "collapsed_sections": [
        "A2heo9MMzOBF"
      ]
    }
  },
  "nbformat": 4,
  "nbformat_minor": 0
}